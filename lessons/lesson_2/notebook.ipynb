{
 "cells": [
  {
   "cell_type": "markdown",
   "metadata": {},
   "source": [
    "# Lesson 2 - Variables and Data Types\n",
    "\n",
    "In this lesson, we will delve deeper into variables and data types in Python. Variables are used to store data, and Python supports various data types to handle different kinds of information. Understanding these concepts is crucial for writing effective and efficient code."
   ]
  },
  {
   "cell_type": "markdown",
   "metadata": {},
   "source": [
    "## 1. Variables\n",
    "\n",
    "A variable is a named location in memory used to store data. You can think of variables as containers for data. In Python, you don't need to declare a variable before using it. You simply assign a value to a variable using the `=` operator. Furthermore, you don't need to explicitly state the data type."
   ]
  },
  {
   "cell_type": "code",
   "execution_count": 1,
   "metadata": {},
   "outputs": [],
   "source": [
    "# Some variable assignments\n",
    "name = \"Max\"            # Declaring a string variable called 'name'\n",
    "age = 25                # Declaring an int variable called 'age'\n",
    "height = 178.3          # Declaring a float variable called 'height'\n",
    "is_ilm_student = True   # Declaring a boolean variable called 'is_ilm_student'"
   ]
  },
  {
   "cell_type": "markdown",
   "metadata": {},
   "source": [
    "## 2. Data Types\n",
    "\n",
    "Python supports several built-in data types. Here are the most commonly used ones:\n",
    "- Text Type\n",
    "    - `str`: Sequence of characters, e.g., `\"hello\"`, `\"Python\"`\n",
    "- Numeric Types\n",
    "    - `int`: Numbers with no decimal or fractional part, e.g., `10`, `-3`\n",
    "    - `float`: Numbers with decimal points, e.g., `3.14`, `-2.0`\n",
    "    - `complex`: Complex numbers with real and imaginary parts, e.g., `1 + 2j`\n",
    "- Sequence Types\n",
    "    - `list`: Ordered collection of items, e.g., `[\"apple\", \"banana\", \"cherry\"]`\n",
    "    - `tuple`: Ordered collection of items, immutable, e.g., `(10.0, 20.0)`\n",
    "    - `range`: Sequence of numbers, often used in loops, e.g., `range(5)`\n",
    "- Mapping Type\n",
    "    - `dict`: Collection of key-value pairs, e.g., `{\"name\": \"Alice\", \"age\": 25}`\n",
    "- Set Types\n",
    "    - `set`: Unordered collection of unique items, e.g., `{\"apple\", \"banana\", \"cherry\"}`\n",
    "    - `frozenset`: Immutable version of a set, e.g., `frozenset({\"apple\", \"banana\", \"cherry\"})`\n",
    "- Boolean Type \n",
    "    - `bool`: `True` or `False` values\n",
    "- Binary Types\n",
    "    - `bytes`: Immutable sequence of bytes, e.g., `b\"hello\"`\n",
    "    - `bytearray`: Mutable sequence of bytes, e.g., `bytearray(b\"hello\")`\n",
    "    - `memoryview`: View of another binary data type, e.g., `memoryview(b\"hello\")`\n",
    "- None Type\n",
    "    - `NoneType`: Represents the absence of a value, e.g., `None`"
   ]
  },
  {
   "cell_type": "code",
   "execution_count": 2,
   "metadata": {},
   "outputs": [
    {
     "name": "stdout",
     "output_type": "stream",
     "text": [
      "The data type of 'name' is <class 'str'>\n",
      "The data type of 'age' is <class 'int'>\n",
      "The data type of 'height' is <class 'float'>\n",
      "The data type of 'is_ilm_student' is <class 'bool'>\n"
     ]
    }
   ],
   "source": [
    "print(f\"The data type of 'name' is {type(name)}\")\n",
    "print(f\"The data type of 'age' is {type(age)}\")\n",
    "print(f\"The data type of 'height' is {type(height)}\")\n",
    "print(f\"The data type of 'is_ilm_student' is {type(is_ilm_student)}\")"
   ]
  },
  {
   "cell_type": "markdown",
   "metadata": {},
   "source": [
    "### 2.1 Type Conversion\n",
    "\n",
    "Sometimes, you may need to convert data from one type to another. This can be done using built-in functions like int(), float(), str(), etc."
   ]
  },
  {
   "cell_type": "code",
   "execution_count": 12,
   "metadata": {},
   "outputs": [
    {
     "name": "stdout",
     "output_type": "stream",
     "text": [
      "I am 25 years old\n",
      "My height is 175.5 cm\n"
     ]
    }
   ],
   "source": [
    "print(\"I am \" + str(age) + \" years old\")\n",
    "print(\"My height is \" + str(height) + \" cm\")\n",
    "\n",
    "height_string = \"175.5\"\n",
    "height = float(height_string)\n",
    "\n",
    "print(height)"
   ]
  },
  {
   "cell_type": "markdown",
   "metadata": {},
   "source": [
    "### 2.2 More Complex Data Types\n",
    "\n",
    "There are also more advanced data types which are natively supported in Python and can be very helpful for handling more complex data."
   ]
  },
  {
   "cell_type": "markdown",
   "metadata": {},
   "source": [
    "#### 2.2.1 Lists\n",
    "\n",
    "Lists are ordered collections of items. They are mutable, meaning you can change their content after creation. Lists can hold items of different data types."
   ]
  },
  {
   "cell_type": "code",
   "execution_count": 42,
   "metadata": {},
   "outputs": [
    {
     "name": "stdout",
     "output_type": "stream",
     "text": [
      "['apple', 'banana', 'cherry']\n",
      "apple\n",
      "['apple', 'banana', 'cherry', 'date', 'strawberry']\n",
      "['cherry', 'date', 'strawberry']\n",
      "I deleted apple\n",
      "['date', 'strawberry']\n"
     ]
    }
   ],
   "source": [
    "# Creating a list\n",
    "fruits = [\"apple\", \"banana\", \"cherry\"]\n",
    "print(fruits)\n",
    "\n",
    "# Accessing elements\n",
    "print(fruits[0])  # Output: apple\n",
    "\n",
    "# Adding elements\n",
    "fruits = fruits + [\"date\"]\n",
    "fruits.append(\"strawberry\")\n",
    "print(fruits)\n",
    "\n",
    "# Removing elements\n",
    "test = fruits.remove(\"banana\")\n",
    "\n",
    "item = fruits.pop(0)\n",
    "print(fruits)\n",
    "print(f\"I deleted {item}\")\n",
    "\n",
    "# Slicing a list\n",
    "print(fruits[1:3])  # Output: ['date', 'strawberry']"
   ]
  },
  {
   "cell_type": "markdown",
   "metadata": {},
   "source": [
    "#### 2.2.2 Dictionaries\n",
    "\n",
    "Dictionaries are collections of key-value pairs. They are unordered, changeable, and indexed by keys, which can be of any immutable type (e.g., strings, numbers)."
   ]
  },
  {
   "cell_type": "code",
   "execution_count": 40,
   "metadata": {},
   "outputs": [
    {
     "name": "stdout",
     "output_type": "stream",
     "text": [
      "{'name': 'Alice', 'age': 25, 'courses': ['Math', 'CS']}\n",
      "Alice\n",
      "None\n",
      "{'name': 'Alice', 'age': 25, 'courses': ['Math', 'CS'], 'grade': 'A'}\n",
      "{'name': 'Alice', 'courses': ['Math', 'CS'], 'grade': 'A'}\n"
     ]
    }
   ],
   "source": [
    "# Creating a dictionary\n",
    "student = {\n",
    "    \"name\": \"Alice\",\n",
    "    \"age\": 25,\n",
    "    \"courses\": [\"Math\", \"CS\"]\n",
    "}\n",
    "print(student)\n",
    "\n",
    "# Accessing values\n",
    "print(student[\"name\"])  # Output: Alice\n",
    "\n",
    "# Attempting to access with non-existing key\n",
    "print(student.get(\"wrong key\"))\n",
    "#print(student[\"wrong key\"]) # This line will raise an error\n",
    "\n",
    "# Adding a new key-value pair\n",
    "student[\"grade\"] = \"A\"\n",
    "print(student)\n",
    "\n",
    "# Removing a key-value pair\n",
    "del student[\"age\"]\n",
    "print(student)"
   ]
  },
  {
   "cell_type": "markdown",
   "metadata": {},
   "source": [
    "#### 2.2.3 Tuples\n",
    "\n",
    "Tuples are ordered collections of items, similar to lists, but they are immutable, meaning their content cannot be changed after creation."
   ]
  },
  {
   "cell_type": "code",
   "execution_count": 6,
   "metadata": {},
   "outputs": [
    {
     "name": "stdout",
     "output_type": "stream",
     "text": [
      "10.0\n"
     ]
    }
   ],
   "source": [
    "# Creating a tuple\n",
    "coordinates = (10.0, 20.0)\n",
    "\n",
    "# Accessing elements\n",
    "print(coordinates[0])  # Output: 10.0\n",
    "\n",
    "# Attempting to change a tuple (will raise an error)\n",
    "# coordinates[0] = 15.0  # TypeError: 'tuple' object does not support item assignment"
   ]
  }
 ],
 "metadata": {
  "kernelspec": {
   "display_name": "Python 3",
   "language": "python",
   "name": "python3"
  },
  "language_info": {
   "codemirror_mode": {
    "name": "ipython",
    "version": 3
   },
   "file_extension": ".py",
   "mimetype": "text/x-python",
   "name": "python",
   "nbconvert_exporter": "python",
   "pygments_lexer": "ipython3",
   "version": "3.13.1"
  }
 },
 "nbformat": 4,
 "nbformat_minor": 2
}
