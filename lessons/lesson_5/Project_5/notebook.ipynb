{
 "cells": [
  {
   "cell_type": "markdown",
   "metadata": {},
   "source": [
    "# Lesson 5 - Object-Oriented Programming (OOP)\n",
    "\n",
    "Object-Oriented Programming (OOP) is a programming paradigm that uses \"objects\" to design applications and programs. It helps in organizing complex programs, making them easier to manage, scale, and debug.\n",
    "\n",
    "**Key Concepts:**\n",
    "- **Class:** A blueprint for creating objects.\n",
    "- **Object:** An instance of a class.\n",
    "- **Attribute:** A variable that holds data within a class.\n",
    "- **Method:** A function defined within a class."
   ]
  },
  {
   "cell_type": "markdown",
   "metadata": {},
   "source": [
    "## 5.1 Defining Classes\n",
    "\n",
    "A class is defined using the `class` keyword, followed by the class name and a colon. Class attributes and methods are defined within the class body.\n",
    "\n",
    "**The basic syntax**:\n",
    "```python\n",
    "class Dog:\n",
    "    def __init__(self, name, age): \\\n",
    "        self.name = name \\\n",
    "        self.age = age \n",
    "\n",
    "    def bark(self): \n",
    "        return f\"{self.name} says woof!\"\n",
    "```"
   ]
  },
  {
   "cell_type": "code",
   "execution_count": 4,
   "metadata": {},
   "outputs": [],
   "source": [
    "# Defining the class\n",
    "class Cat:\n",
    "    def __init__(self, name, age):\n",
    "        self.name = name\n",
    "        self.age = age\n",
    "\n",
    "    def meow(self):\n",
    "        return f\"{self.name} says meow!\"\n",
    "\n",
    "# Creating an object of the class\n",
    "cat_1 = Cat(name=\"Whiskers\", age=3)\n",
    "\n",
    "# Calling the method\n",
    "print(cat_1.meow())"
   ]
  },
  {
   "cell_type": "code",
   "execution_count": 6,
   "metadata": {},
   "outputs": [
    {
     "name": "stdout",
     "output_type": "stream",
     "text": [
      "Max Muster (age: 27)\n"
     ]
    }
   ],
   "source": [
    "from src.mdl.name import Name\n",
    "from src.mdl.person import Person\n",
    "\n",
    "\n",
    "person_1 = Person(Name(\"Max\", \"Muster\"), 27)\n",
    "print(person_1)"
   ]
  }
 ],
 "metadata": {
  "kernelspec": {
   "display_name": "Python 3",
   "language": "python",
   "name": "python3"
  },
  "language_info": {
   "codemirror_mode": {
    "name": "ipython",
    "version": 3
   },
   "file_extension": ".py",
   "mimetype": "text/x-python",
   "name": "python",
   "nbconvert_exporter": "python",
   "pygments_lexer": "ipython3",
   "version": "3.13.1"
  }
 },
 "nbformat": 4,
 "nbformat_minor": 2
}
