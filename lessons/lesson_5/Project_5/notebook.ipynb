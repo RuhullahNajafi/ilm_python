{
 "cells": [
  {
   "cell_type": "markdown",
   "metadata": {},
   "source": [
    "# Lesson 5 - Object-Oriented Programming (OOP)\n",
    "\n",
    "Object-Oriented Programming (OOP) is a programming paradigm that uses \"objects\" to design applications and programs. It helps in organizing complex programs, making them easier to manage, scale, and debug.\n",
    "\n",
    "**Key Concepts:**\n",
    "- **Class:** A blueprint for creating objects.\n",
    "- **Object:** An instance of a class.\n",
    "- **Attribute:** A variable that holds data within a class.\n",
    "- **Method:** A function defined within a class."
   ]
  },
  {
   "cell_type": "markdown",
   "metadata": {},
   "source": [
    "## 1 Defining Classes\n",
    "\n",
    "A class is defined using the `class` keyword, followed by the class name and a colon. Class attributes and methods are defined within the class body.\n",
    "\n",
    "**The basic syntax**:\n",
    "```python\n",
    "class Dog:\n",
    "    def __init__(self, name, age):\n",
    "        self.name = name\n",
    "        self.age = age \n",
    "\n",
    "    def bark(self): \n",
    "        return f\"{self.name} says woof!\"\n",
    "```"
   ]
  },
  {
   "cell_type": "code",
   "execution_count": 14,
   "metadata": {},
   "outputs": [
    {
     "name": "stdout",
     "output_type": "stream",
     "text": [
      "Whiskers says meow!\n",
      "Whiskers is 3 years old and has black fur.\n",
      "Max is 4 years old and has white fur.\n"
     ]
    }
   ],
   "source": [
    "# Defining the class\n",
    "class Cat:\n",
    "\n",
    "    def __init__(self, name, age, fur_color):\n",
    "        self.name = name\n",
    "        self.age = age\n",
    "        self.fur_color = fur_color\n",
    "\n",
    "    def meow(self):\n",
    "        return f\"{self.name} says meow!\"\n",
    "\n",
    "# Creating an object/instance of the class\n",
    "cat_1 = Cat(\"Whiskers\", 3, \"black\")\n",
    "cat_2 = Cat(\"Max\", 4, \"white\")\n",
    "\n",
    "# Calling the method\n",
    "print(cat_1.meow())\n",
    "print(f\"{cat_1.name} is {cat_1.age} years old and has {cat_1.fur_color} fur.\")\n",
    "print(f\"{cat_2.name} is {cat_2.age} years old and has {cat_2.fur_color} fur.\")"
   ]
  },
  {
   "cell_type": "markdown",
   "metadata": {},
   "source": [
    "## 2 Inheritance\n",
    "\n",
    "Inheritance allows you to create a new class (child class) that inherits attributes and methods from an existing class (parent class)."
   ]
  },
  {
   "cell_type": "code",
   "execution_count": 21,
   "metadata": {},
   "outputs": [
    {
     "name": "stdout",
     "output_type": "stream",
     "text": [
      "Buddy says woof!\n",
      "Whiskers says meow!\n",
      "Buddy is 5 years old.\n",
      "Whiskers is 7 years old.\n"
     ]
    }
   ],
   "source": [
    "class Animal:\n",
    "    def __init__(self, name, age):\n",
    "        self.name = name\n",
    "        self.age = age\n",
    "\n",
    "    def tell_age(self):\n",
    "        return f\"{self.name} is {self.age} years old.\"\n",
    "\n",
    "    def speak(self): \n",
    "        pass\n",
    "\n",
    "class Dog(Animal):\n",
    "    def speak(self):\n",
    "        return f\"{self.name} says woof!\"\n",
    "\n",
    "class Cat(Animal):\n",
    "    def speak(self):\n",
    "        return f\"{self.name} says meow!\"\n",
    "\n",
    "dog = Dog(\"Buddy\", 5)\n",
    "cat = Cat(\"Whiskers\", 7)\n",
    "\n",
    "print(dog.speak())  # Output: Buddy says woof!\n",
    "print(cat.speak())  # Output: Whiskers says meow!\n",
    "\n",
    "print(dog.tell_age())  # Output: Buddy is 5 years old.\n",
    "print(cat.tell_age())  # Output: Whiskers is 7 years old.\n"
   ]
  },
  {
   "cell_type": "markdown",
   "metadata": {},
   "source": [
    "## 3 Composition\n",
    "\n",
    "**Composition** is a concept that models a **has a** relationship. It enables creating complex types by combining objects of other types. This means that a class `Composite` can contain an object of another class `Component`. This relationship means that a `Composite` has a `Component`.\n",
    "\n",
    "In the following example, the Composite is the `Person` class with the `Name` class as it's components."
   ]
  },
  {
   "cell_type": "code",
   "execution_count": null,
   "metadata": {},
   "outputs": [],
   "source": [
    "from src.mdl.name import Name\n",
    "from src.mdl.person import Person, Sex\n",
    "\n",
    "\n",
    "name = Name(\"Max\", \"Muster\")\n",
    "person = Person(name, 27, Sex.MALE)\n",
    "print(person)"
   ]
  }
 ],
 "metadata": {
  "kernelspec": {
   "display_name": "Python 3",
   "language": "python",
   "name": "python3"
  },
  "language_info": {
   "codemirror_mode": {
    "name": "ipython",
    "version": 3
   },
   "file_extension": ".py",
   "mimetype": "text/x-python",
   "name": "python",
   "nbconvert_exporter": "python",
   "pygments_lexer": "ipython3",
   "version": "3.13.1"
  }
 },
 "nbformat": 4,
 "nbformat_minor": 2
}
