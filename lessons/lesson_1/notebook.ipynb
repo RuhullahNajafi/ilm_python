{
 "cells": [
  {
   "cell_type": "markdown",
   "metadata": {},
   "source": [
    "# Basic Python Syntax"
   ]
  },
  {
   "cell_type": "markdown",
   "metadata": {},
   "source": [
    "## Comments vs Code\n",
    "Comments are not evaluated by during runtime. They only purpose the function of explaining the code. Although they can be placed everywhere in the coding, there are some conventions and good practice guidelines which help to make meeningful comments."
   ]
  },
  {
   "cell_type": "code",
   "execution_count": 4,
   "metadata": {},
   "outputs": [
    {
     "name": "stdout",
     "output_type": "stream",
     "text": [
      "Coding line is executed during runtime\n"
     ]
    }
   ],
   "source": [
    "# This is a one line comment in Python. It is not executed.\n",
    "\n",
    "'''\n",
    "    Multiline comments are nice when you want to have \n",
    "    a bigger comment block for some detailed explanation \n",
    "    of your code which goes beyond one line of your source \n",
    "    code file.\n",
    "'''\n",
    "\n",
    "print(f'Coding line is executed during runtime')"
   ]
  },
  {
   "cell_type": "markdown",
   "metadata": {},
   "source": [
    "## Code-Statements in Python\n",
    "Code statements in python are the instructions to the computer which tell is what to do.\n",
    "Each statement usually ends at the end of the line (no semicolon needed).\n",
    "Proper indentation is not only recommended but mandatory in python, since it effects the scope of the current code line (examples follow)."
   ]
  },
  {
   "cell_type": "markdown",
   "metadata": {},
   "source": [
    "### The Print-~~Statement~~Function\n",
    "The first important statement we are looking at is a call of the `print`-function. As the name suggest, this allows us to print a `string` to the standard output stream."
   ]
  },
  {
   "cell_type": "code",
   "execution_count": 6,
   "metadata": {},
   "outputs": [
    {
     "name": "stdout",
     "output_type": "stream",
     "text": [
      "Welcome to Lesson-1 of the Python-Beginner-Class\n"
     ]
    }
   ],
   "source": [
    "print(\"Welcome to Lesson-1 of the Python-Beginner-Class\")"
   ]
  }
 ],
 "metadata": {
  "kernelspec": {
   "display_name": "Python 3",
   "language": "python",
   "name": "python3"
  },
  "language_info": {
   "codemirror_mode": {
    "name": "ipython",
    "version": 3
   },
   "file_extension": ".py",
   "mimetype": "text/x-python",
   "name": "python",
   "nbconvert_exporter": "python",
   "pygments_lexer": "ipython3",
   "version": "3.9.13"
  }
 },
 "nbformat": 4,
 "nbformat_minor": 2
}
