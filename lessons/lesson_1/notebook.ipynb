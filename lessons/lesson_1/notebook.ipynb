{
 "cells": [
  {
   "cell_type": "markdown",
   "metadata": {},
   "source": [
    "# Basic Python Syntax"
   ]
  },
  {
   "cell_type": "markdown",
   "metadata": {},
   "source": [
    "## 1. Comments vs Code\n",
    "Comments are not evaluated by during runtime. They only purpose the function of explaining the code. Although they can be placed everywhere in the coding, there are some conventions and good practice guidelines which help to make meeningful comments."
   ]
  },
  {
   "cell_type": "code",
   "execution_count": 1,
   "metadata": {},
   "outputs": [
    {
     "name": "stdout",
     "output_type": "stream",
     "text": [
      "Coding line is executed during runtime\n"
     ]
    }
   ],
   "source": [
    "# This is a one line comment in Python. It is not executed.\n",
    "\n",
    "'''\n",
    "    Multiline comments are nice when you want to have \n",
    "    a bigger comment block for some detailed explanation \n",
    "    of your code which goes beyond one line of your source \n",
    "    code file.\n",
    "'''\n",
    "\n",
    "print(f'Coding line is executed during runtime')"
   ]
  },
  {
   "cell_type": "markdown",
   "metadata": {},
   "source": [
    "## 2. Statements in Python\n",
    "Code statements in python are the instructions which the interpreter can execute.\n",
    "Each statement usually ends at the end of the line with the NEWLINE character (no semicolon needed).\n",
    "There are several types of statements which will be addressed throughout this class.\n",
    "\n",
    "Proper indentation is not only recommended but mandatory in python, since it effects the scope of the current code line (examples follow)."
   ]
  },
  {
   "cell_type": "markdown",
   "metadata": {},
   "source": [
    "### 2.1 The Print-~~Statement~~Function\n",
    "The first important statement we are looking at is a call of the `print`-function. As the name suggest, this allows us to print a `string` to the standard output stream."
   ]
  },
  {
   "cell_type": "code",
   "execution_count": 2,
   "metadata": {},
   "outputs": [
    {
     "name": "stdout",
     "output_type": "stream",
     "text": [
      "Welcome to Lesson-1 of the Python-Beginner-Class\n"
     ]
    }
   ],
   "source": [
    "print(\"Welcome to Lesson-1 of the Python-Beginner-Class\")"
   ]
  },
  {
   "cell_type": "markdown",
   "metadata": {},
   "source": [
    "### 2.2 Assignment Statement\n",
    "Assignment statements are used to assign values to variables."
   ]
  },
  {
   "cell_type": "code",
   "execution_count": 3,
   "metadata": {},
   "outputs": [
    {
     "name": "stdout",
     "output_type": "stream",
     "text": [
      "16\n",
      "18\n"
     ]
    }
   ],
   "source": [
    "# Assignment statement. The value 42 is assigned to the variable 'x'.\n",
    "x = 16\n",
    "\n",
    "print(x)\n",
    "\n",
    "x = x + 2\n",
    "\n",
    "print(x)"
   ]
  },
  {
   "cell_type": "markdown",
   "metadata": {},
   "source": [
    "### 2.3 Expression Statement\n",
    "Expression statements are used to to compute a value or to write it.\n",
    "\n",
    "> An expression is a combination of values, variables, and operators. A single value by itself is also considered an expression.\n",
    "\n",
    "In a script an expression all by itself does nothing, which is why you will often see expression used to assign a value to some variable.\n",
    "That is what is called an expression statement."
   ]
  },
  {
   "cell_type": "code",
   "execution_count": 7,
   "metadata": {},
   "outputs": [
    {
     "name": "stdout",
     "output_type": "stream",
     "text": [
      "40\n"
     ]
    }
   ],
   "source": [
    "# Expression statement. The value 42 is assigned to the variable 'y'.\n",
    "\n",
    "y = (2 + x) * 2\n",
    "\n",
    "print(y)"
   ]
  },
  {
   "cell_type": "markdown",
   "metadata": {},
   "source": [
    "### 2.4 Multi-Line Statements\n",
    "Usually python statements end with the NEWLINE character (at the end of the code-line), but you can also build statements spanning over more than a single line of code using the line continuation character `\\`."
   ]
  },
  {
   "cell_type": "code",
   "execution_count": 11,
   "metadata": {},
   "outputs": [
    {
     "name": "stdout",
     "output_type": "stream",
     "text": [
      "78\n",
      "78.0\n"
     ]
    }
   ],
   "source": [
    "# Multi-line statement of a long addition.\n",
    "z = 1 + 2 + 3 + \\\n",
    "    4 + 5 + 6 + \\\n",
    "    7 + 8 + 9 + \\\n",
    "    10 + 11 + 12\n",
    "\n",
    "print(z)\n",
    "\n",
    "temp = 12 * (12 + 1) / 2\n",
    "\n",
    "print(temp)"
   ]
  },
  {
   "cell_type": "markdown",
   "metadata": {},
   "source": [
    "#### 2.4.1 Implicit Continuations\n",
    "When using parentheses `()`, square brackets (when creating lists) `[]` or curly brackets (when creating dictionaries) `{}` the multi-line mode is enabled implicitly."
   ]
  },
  {
   "cell_type": "code",
   "execution_count": 14,
   "metadata": {},
   "outputs": [
    {
     "name": "stdout",
     "output_type": "stream",
     "text": [
      "78\n"
     ]
    }
   ],
   "source": [
    "# Implicit multi-line support when using parentheses or brackets.\n",
    "sum = ( 1 + 2 + 3 +\n",
    "        4 + 5 + 6 +\n",
    "        7 + 8 + 9 +\n",
    "        10 + 11 + 12 )\n",
    "\n",
    "print(sum)"
   ]
  },
  {
   "cell_type": "markdown",
   "metadata": {},
   "source": [
    "### 2.5 Compound Statements\n",
    "Compound statements consist of a group of other statements. They control the execution of those other statements.\n",
    "\n",
    "The compound statement includes the conditional and loop statement.\n",
    "\n",
    "* if statement: It is a control flow statement that will execute statements under it if the condition is true. Also kown as a conditional statement.\n",
    "* while statements: The while loop statement repeatedly executes a code block while a particular condition is true. Also known as a looping statement.\n",
    "* for statement: Using for loop statement, we can iterate any sequence or iterable variable. The sequence can be string, list, dictionary, set, or tuple. Also known as a looping statement.\n",
    "* try statement: specifies exception handlers.\n",
    "* with statement: Used to cleanup code for a group of statements, while the with statement allows the execution of initialization and finalization code around a block of code."
   ]
  }
 ],
 "metadata": {
  "kernelspec": {
   "display_name": "Python 3",
   "language": "python",
   "name": "python3"
  },
  "language_info": {
   "codemirror_mode": {
    "name": "ipython",
    "version": 3
   },
   "file_extension": ".py",
   "mimetype": "text/x-python",
   "name": "python",
   "nbconvert_exporter": "python",
   "pygments_lexer": "ipython3",
   "version": "3.9.13"
  }
 },
 "nbformat": 4,
 "nbformat_minor": 2
}
