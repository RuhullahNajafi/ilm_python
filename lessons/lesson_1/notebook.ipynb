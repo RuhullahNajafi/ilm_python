{
 "cells": [
  {
   "cell_type": "markdown",
   "metadata": {},
   "source": [
    "# Lesson 1 - Basic Python Syntax\n",
    "\n",
    "In this lesson, we will introduce you to the basic syntax of Python."
   ]
  },
  {
   "cell_type": "markdown",
   "metadata": {},
   "source": [
    "## 1. Comments vs Code\n",
    "Comments are not evaluated by during runtime. They only purpose the function of explaining the code. Although they can be placed everywhere in the coding, there are some conventions and good practice guidelines which help to make meeningful comments."
   ]
  },
  {
   "cell_type": "code",
   "execution_count": 1,
   "metadata": {},
   "outputs": [
    {
     "name": "stdout",
     "output_type": "stream",
     "text": [
      "Coding line is executed during runtime\n"
     ]
    }
   ],
   "source": [
    "# This is a one line comment in Python. It is not executed.\n",
    "\n",
    "'''\n",
    "    Multiline comments are nice when you want to have \n",
    "    a bigger comment block for some detailed explanation \n",
    "    of your code which goes beyond one line of your source \n",
    "    code file.\n",
    "'''\n",
    "\n",
    "print(f'Coding line is executed during runtime')"
   ]
  },
  {
   "cell_type": "markdown",
   "metadata": {},
   "source": [
    "## 2. Statements in Python\n",
    "Code statements in python are the instructions which the interpreter can execute.\n",
    "Each statement usually ends at the end of the line with the NEWLINE character (no semicolon needed).\n",
    "There are several types of statements which will be addressed throughout this class.\n",
    "\n",
    "Proper indentation is not only recommended but mandatory in python, since it effects the scope of the current code line (examples follow)."
   ]
  },
  {
   "cell_type": "markdown",
   "metadata": {},
   "source": [
    "### 2.1 The Print-~~Statement~~Function\n",
    "The first important statement we are looking at is a call of the `print`-function. As the name suggest, this allows us to print a `string` to the standard output stream."
   ]
  },
  {
   "cell_type": "code",
   "execution_count": 2,
   "metadata": {},
   "outputs": [
    {
     "name": "stdout",
     "output_type": "stream",
     "text": [
      "Welcome to Lesson-1 of the Python-Beginner-Class\n"
     ]
    }
   ],
   "source": [
    "print(\"Welcome to Lesson-1 of the Python-Beginner-Class\")"
   ]
  },
  {
   "cell_type": "markdown",
   "metadata": {},
   "source": [
    "### 2.2 Assignment Statement\n",
    "Assignment statements are used to assign values to variables."
   ]
  },
  {
   "cell_type": "code",
   "execution_count": 3,
   "metadata": {},
   "outputs": [
    {
     "name": "stdout",
     "output_type": "stream",
     "text": [
      "16\n"
     ]
    }
   ],
   "source": [
    "# Assignment statement. The value 42 is assigned to the variable 'x'.\n",
    "x = 16\n",
    "\n",
    "print(x)"
   ]
  },
  {
   "cell_type": "markdown",
   "metadata": {},
   "source": [
    "### 2.3 Expression Statement\n",
    "\n",
    "Expression statements are used to compute a value or to write it.\n",
    "\n",
    "> An expression is a combination of values, variables, and operators. A single value by itself is also considered an expression.\n",
    "\n",
    "In a script an expression all by itself does nothing, which is why you will often see expression used to assign a value to some variable.\n",
    "That is what is called an expression statement."
   ]
  },
  {
   "cell_type": "code",
   "execution_count": 4,
   "metadata": {},
   "outputs": [
    {
     "name": "stdout",
     "output_type": "stream",
     "text": [
      "34\n"
     ]
    }
   ],
   "source": [
    "# Expression statement. The value 42 is assigned to the variable 'y'.\n",
    "\n",
    "y = 2 + x * 2\n",
    "\n",
    "print(y)"
   ]
  },
  {
   "cell_type": "markdown",
   "metadata": {},
   "source": [
    "> ℹ Make sure the codeblock where the variable `x` is defined is executed before you execute this code block, since it uses the variable `x`."
   ]
  },
  {
   "cell_type": "markdown",
   "metadata": {},
   "source": [
    "### 2.4 Multi-Line Statements\n",
    "Usually python statements end with the NEWLINE character (at the end of the code-line), but you can also build statements spanning over more than a single line of code using the line continuation character `\\`."
   ]
  },
  {
   "cell_type": "code",
   "execution_count": 5,
   "metadata": {},
   "outputs": [
    {
     "name": "stdout",
     "output_type": "stream",
     "text": [
      "The sum of all the whole numbers between 1 and 12 is 78\n",
      "12 * (12 + 1) / 2 = 78.0\n"
     ]
    }
   ],
   "source": [
    "# Multi-line statement of a long addition.\n",
    "long_sum = 1 + 2 + 3 + \\\n",
    "            4 + 5 + 6 + \\\n",
    "            7 + 8 + 9 + \\\n",
    "            10 + 11 + 12\n",
    "\n",
    "print(\"The sum of all the whole numbers between 1 and 12 is\", long_sum)\n",
    "\n",
    "# Interesting side note.\n",
    "# When summing up all the whole numbers up to a given number n, the result can be calculated using the following formula:\n",
    "# sum(1, 2, ..., n) = n * (n + 1) / 2\n",
    "sum_formula = 12 * (12 + 1) / 2\n",
    "\n",
    "print(\"12 * (12 + 1) / 2 =\", sum_formula)"
   ]
  },
  {
   "cell_type": "markdown",
   "metadata": {},
   "source": [
    "#### 2.4.1 Implicit Continuations\n",
    "When using parentheses `()`, square brackets (when creating lists) `[]` or curly brackets (when creating dictionaries) `{}` the multi-line mode is enabled implicitly."
   ]
  },
  {
   "cell_type": "code",
   "execution_count": 6,
   "metadata": {},
   "outputs": [
    {
     "name": "stdout",
     "output_type": "stream",
     "text": [
      "78\n"
     ]
    }
   ],
   "source": [
    "# Implicit multi-line support when using parentheses or brackets.\n",
    "long_sum = ( 1 + 2 + 3 +\n",
    "        4 + 5 + 6 +\n",
    "        7 + 8 + 9 +\n",
    "        10 + 11 + 12 )\n",
    "\n",
    "print(long_sum)"
   ]
  },
  {
   "cell_type": "markdown",
   "metadata": {},
   "source": [
    "### 2.5 Compound Statements\n",
    "Compound statements consist of a group of other statements. They control the execution of those other statements."
   ]
  },
  {
   "cell_type": "markdown",
   "metadata": {},
   "source": [
    "#### 2.5.1 `if` Statement\n",
    "The `if` statement is a control flow statement that will execute the statements \"under\" it if the condition is true. It is also known as a conditional statement."
   ]
  },
  {
   "cell_type": "code",
   "execution_count": 7,
   "metadata": {},
   "outputs": [
    {
     "name": "stdout",
     "output_type": "stream",
     "text": [
      "a is not smaller than 10\n"
     ]
    }
   ],
   "source": [
    "a = 12\n",
    "\n",
    "if a < 10:\n",
    "    print(\"a is smaller than 10\")\n",
    "\n",
    "if a >= 10:\n",
    "    print(\"a is not smaller than 10\")"
   ]
  },
  {
   "cell_type": "markdown",
   "metadata": {},
   "source": [
    "#### 2.5.2 `while`-Loop Statement\n",
    "The `while` loop statement repeatedly executes a code block while a particular condition is true. It is also known as a looping statement."
   ]
  },
  {
   "cell_type": "code",
   "execution_count": 8,
   "metadata": {},
   "outputs": [
    {
     "name": "stdout",
     "output_type": "stream",
     "text": [
      "3\n",
      "2\n",
      "1\n"
     ]
    }
   ],
   "source": [
    "b = 3\n",
    "\n",
    "while b > 0:\n",
    "    print(b)\n",
    "    b = b - 1"
   ]
  },
  {
   "cell_type": "markdown",
   "metadata": {},
   "source": [
    "#### 2.5.3 `for`-Loop Statement\n",
    "The `for` loop statement provide a syntax for iterating any sequence or iterable variable. The sequence can e.g. be string, a list, a dictionary, a set, or a tuple. It is also known as a looping statement."
   ]
  },
  {
   "cell_type": "code",
   "execution_count": 9,
   "metadata": {},
   "outputs": [
    {
     "name": "stdout",
     "output_type": "stream",
     "text": [
      "My name written letter by letter is:\n",
      "-> M\n",
      "-> a\n",
      "-> x\n",
      "\n",
      "I want to buy the following items:\n",
      "-> apple\n",
      "-> bread\n",
      "-> water\n"
     ]
    }
   ],
   "source": [
    "name = \"Max\"\n",
    "print(\"My name written letter by letter is:\")\n",
    "# Looping over the characters of a string variable\n",
    "for character in name:\n",
    "    print(\"->\", character)\n",
    "\n",
    "# An empty line for formatting the outputs\n",
    "print()\n",
    "\n",
    "# Defining a list (notice the use of the implicit continuation (without explicit \\ at the end of the lines) since we are using square brackets)\n",
    "grocery_list = [\n",
    "    \"apple\", \n",
    "    \"bread\",\n",
    "    \"water\"\n",
    "]\n",
    "print(\"I want to buy the following items:\")\n",
    "# Looping over the items of a list variable\n",
    "for item in grocery_list:\n",
    "    print(\"->\", item)"
   ]
  },
  {
   "cell_type": "markdown",
   "metadata": {},
   "source": [
    "#### 2.5.4 Other Statements\n",
    "A few other statements which will be discussed later in this class are the following:\n",
    "- `try`-statement\n",
    "- `with`-statement\n",
    "- `pass`-statement\n",
    "- `del`-statement\n",
    "- `return`-statement\n",
    "- `import`-statement\n",
    "- `break`-statement\n",
    "- `continue`-statement"
   ]
  },
  {
   "cell_type": "markdown",
   "metadata": {},
   "source": [
    "## 3. Basic Arithmetic Operations\n",
    "\n",
    "In this section, we'll explore the fundamental arithmetic operations in Python. These operations form the building blocks of many programming tasks and are essential for performing calculations and manipulating data. Python provides straightforward syntax for arithmetic operations, making it easy to perform addition, subtraction, multiplication, and division.\n",
    "\n",
    "**Arithmetic Operations:**\n",
    "- **Addition (`+`)**: Adds two numbers together.\n",
    "- **Subtraction (`-`)**: Subtracts one number from another.\n",
    "- **Multiplication (`*`)**: Multiplies two numbers.\n",
    "- **Division (`/`)**: Divides one number by another.\n",
    "\n",
    "Let's look at some examples to understand how these operations work in Python. By the end of this section, you'll be able to confidently perform basic arithmetic calculations in your Python programs.\n"
   ]
  },
  {
   "cell_type": "code",
   "execution_count": 10,
   "metadata": {},
   "outputs": [
    {
     "name": "stdout",
     "output_type": "stream",
     "text": [
      "Basic arithmetic operations with a = 17, b = 5: \n",
      "\n",
      "a + b = 22\n",
      "a - b = 12\n",
      "a * b = 85\n",
      "a / b = 3.4\n",
      "a % b = 2\n",
      "a ** b = 1419857\n",
      "a // b = 3\n"
     ]
    }
   ],
   "source": [
    "# Basic arithmetic operations\n",
    "a = 17\n",
    "b = 5\n",
    "\n",
    "print(f\"Basic arithmetic operations with a = {a}, b = {b}: \\n\")\n",
    "\n",
    "# Addition\n",
    "result = a + b\n",
    "print(\"a + b =\", result)\n",
    "\n",
    "# Subtraction\n",
    "result = a - b\n",
    "print(\"a - b =\", result)\n",
    "\n",
    "# Multiplication\n",
    "result = a * b\n",
    "print(\"a * b =\", result)\n",
    "\n",
    "# Division\n",
    "result = a / b\n",
    "print(\"a / b =\", result)\n",
    "\n",
    "# Modulus\n",
    "result = a % b\n",
    "print(\"a % b =\", result)\n",
    "\n",
    "# Exponentiation\n",
    "result = a ** b\n",
    "print(\"a ** b =\", result)\n",
    "\n",
    "# Floor Division\n",
    "result = a // b\n",
    "print(\"a // b =\", result)"
   ]
  },
  {
   "cell_type": "code",
   "execution_count": null,
   "metadata": {},
   "outputs": [],
   "source": []
  }
 ],
 "metadata": {
  "kernelspec": {
   "display_name": "Python 3",
   "language": "python",
   "name": "python3"
  },
  "language_info": {
   "codemirror_mode": {
    "name": "ipython",
    "version": 3
   },
   "file_extension": ".py",
   "mimetype": "text/x-python",
   "name": "python",
   "nbconvert_exporter": "python",
   "pygments_lexer": "ipython3",
   "version": "3.13.1"
  }
 },
 "nbformat": 4,
 "nbformat_minor": 2
}
