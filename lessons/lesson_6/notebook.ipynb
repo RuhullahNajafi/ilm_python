{
 "cells": [
  {
   "cell_type": "markdown",
   "metadata": {},
   "source": [
    "# Lesson 6 - Numpy\n",
    "\n",
    "**NumPy** (*Numerical Python*) is the cornerstone of numerical computing in Python. Here's why it's essential:\n",
    "\n",
    "## 🚀 Key Features\n",
    "- **N-Dimensional Arrays**:  \n",
    "  Efficient `ndarray` object for storing homogeneous data (integers, floats, etc.)  \n",
    "  ```python\n",
    "  import numpy as np\n",
    "  arr = np.array([[1, 2, 3], [4, 5, 6]])  # 2D array\n",
    "  ```\n",
    "- **Vectorization**:  \n",
    "  Perform operations on entire arrays *without loops*\n",
    "  ```python\n",
    "  a = np.array([1, 2, 3])\n",
    "  b = np.array([4, 5, 6])\n",
    "  print(a * b)  # [4, 10, 18]\n",
    "  ```\n",
    "- **Speed**:  \n",
    "  Built-in C/C++/Fortran optimizations make it **100x faster** than Python lists for large datasets\n",
    "- **Scientific Toolkit**:\n",
    "  - Linear algebra(```np.linalg```)\n",
    "  - Fourier transforms(```np.fft```)\n",
    "  - Random sampling(```np.random```)\n",
    "  - Statistics and matrix operations"
   ]
  },
  {
   "cell_type": "markdown",
   "metadata": {},
   "source": []
  },
  {
   "cell_type": "markdown",
   "metadata": {},
   "source": [
    "\n",
    "## 🚀 Key Features\n",
    "- **N-Dimensional Arrays**:  \n",
    "  Efficient `ndarray` object for storing homogeneous data (integers, floats, etc.)  \n",
    "  ```python\n",
    "  import numpy as np\n",
    "  arr = np.array([[1, 2, 3], [4, 5, 6]])  # 2D array"
   ]
  },
  {
   "cell_type": "code",
   "execution_count": 1,
   "metadata": {},
   "outputs": [
    {
     "name": "stdout",
     "output_type": "stream",
     "text": [
      "[[1]\n",
      " [2]]\n",
      "(2, 1)\n",
      "2\n",
      "[[[ 7  7]\n",
      "  [ 8  8]\n",
      "  [ 9  9]]\n",
      "\n",
      " [[10 10]\n",
      "  [11 11]\n",
      "  [12 12]]]\n",
      "shape:  (2, 3, 2)\n",
      "ndim:  3\n",
      "size:  12\n",
      "dtype:  int64\n"
     ]
    }
   ],
   "source": [
    "import numpy as np\n",
    "\n",
    "a = np.array([[1], [2]])\n",
    "print(a)\n",
    "print(a.shape)\n",
    "print(a.ndim)\n",
    "\n",
    "M = np.array([[[7, 7], [8, 8], [9, 9]], [[10, 10], [11, 11], [12, 12]]])\n",
    "print(M)\n",
    "print(\"shape: \", M.shape)\n",
    "print(\"ndim: \", M.ndim)\n",
    "print(\"size: \", M.size)\n",
    "print(\"dtype: \", M.dtype)\n",
    "\n",
    "\n",
    "A = np.array([[1, 2], [3, 4]])\n",
    "\n",
    "x = np.array([[1], [0]])"
   ]
  },
  {
   "cell_type": "code",
   "execution_count": 2,
   "metadata": {},
   "outputs": [
    {
     "name": "stdout",
     "output_type": "stream",
     "text": [
      "[[0. 0.]\n",
      " [0. 0.]]\n",
      "[[2. 2.]\n",
      " [2. 2.]]\n",
      "[[1. 0. 0.]\n",
      " [0. 1. 0.]\n",
      " [0. 0. 1.]]\n"
     ]
    }
   ],
   "source": [
    "zeros = np.zeros((2, 2))\n",
    "print(zeros)\n",
    "\n",
    "ones = 2 * np.ones((2, 2))  # Create an array of all ones\n",
    "print(ones)\n",
    "\n",
    "eye = np.eye(3)  # Create a 2x2 identity matrix\n",
    "print(eye)"
   ]
  },
  {
   "cell_type": "code",
   "execution_count": 3,
   "metadata": {},
   "outputs": [
    {
     "name": "stdout",
     "output_type": "stream",
     "text": [
      "[0 2 4 6 8]\n",
      "[0.    1.615 3.23 ]\n",
      "float64\n"
     ]
    }
   ],
   "source": [
    "import math\n",
    "\n",
    "\n",
    "range_array = np.arange(0, 10, 2)  # Create an array of range with step 2\n",
    "print(range_array)\n",
    "\n",
    "linespace_array = np.linspace(0, 3.23, 3)  # Create an array of 6 elements between 0 and 10\n",
    "print(linespace_array)\n",
    "print(linespace_array.dtype)\n"
   ]
  },
  {
   "cell_type": "code",
   "execution_count": 4,
   "metadata": {},
   "outputs": [
    {
     "name": "stdout",
     "output_type": "stream",
     "text": [
      "4.0\n"
     ]
    }
   ],
   "source": [
    "x = np.sqrt(4)\n",
    "print(x**2)"
   ]
  },
  {
   "cell_type": "code",
   "execution_count": 5,
   "metadata": {},
   "outputs": [
    {
     "name": "stdout",
     "output_type": "stream",
     "text": [
      "[10, 8, 6, 4, 2]\n"
     ]
    }
   ],
   "source": [
    "x = range(10, 1, -2)\n",
    "print(list(x))"
   ]
  },
  {
   "cell_type": "code",
   "execution_count": 6,
   "metadata": {},
   "outputs": [
    {
     "name": "stdout",
     "output_type": "stream",
     "text": [
      "np.dot(x, y) = 32\n",
      "x @ y = 32\n",
      "x * y = [ 4 10 18]\n",
      "5 * y = [20 25 30]\n",
      "np.cross(x, y) = [-3  6 -3]\n"
     ]
    }
   ],
   "source": [
    "x = np.array([1, 2, 3])\n",
    "y = np.array([4, 5, 6])\n",
    "\n",
    "print(f\"np.dot(x, y) = {np.dot(x, y)}\")\n",
    "print(f\"x @ y = {x @ y}\")\n",
    "print(f\"x * y = {x * y}\")\n",
    "print(f\"5 * y = {5 * y}\")\n",
    "\n",
    "print(f\"np.cross(x, y) = {np.cross(x, y)}\")\n",
    "\n"
   ]
  },
  {
   "cell_type": "code",
   "execution_count": 7,
   "metadata": {},
   "outputs": [
    {
     "name": "stdout",
     "output_type": "stream",
     "text": [
      "a = [[[[1]]\n",
      "\n",
      "  [[2]]\n",
      "\n",
      "  [[3]]]]\n",
      "a = [1 2 3]\n",
      "[1 2 3]\n",
      "[2 4 6]\n",
      "[1 2 3 1 2 3]\n",
      "[1 7 2 3]\n",
      "A = [[1. 2.]\n",
      " [3. 4.]]\n",
      "A = \n",
      "[[1. 2.]\n",
      " [3. 4.]]\n",
      "np.linalg.inv(A) = \n",
      "[[-2.   1. ]\n",
      " [ 1.5 -0.5]]\n",
      "np.linalg.inv(A) * A = \n",
      "[[-2.   2. ]\n",
      " [ 4.5 -2. ]]\n"
     ]
    }
   ],
   "source": [
    "a = np.array([[[[1]], [[2]], [[3]]]])\n",
    "b = np.array([1, 2, 3])\n",
    "print(f\"a = {a}\")\n",
    "a = a.flatten()\n",
    "print(f\"a = {a}\")\n",
    "print(b)\n",
    "print(a + b)\n",
    "\n",
    "\n",
    "print(np.append(a, b))\n",
    "\n",
    "print(np.insert(a, 1, 7))\n",
    "\n",
    "A = np.array([[1.0, 2.0], [3.0, 4.0]])\n",
    "print(f\"A = {A}\")\n",
    "\n",
    "# A = np.insert(A, 1, [7, 8], axis=1)\n",
    "print(f\"A = \\n{A}\")\n",
    "\n",
    "# print(f\"A.T = \\n{A.T}\")\n",
    "# print(f\"np.invert(A) = \\n{np.invert(A)}\")\n",
    "# print(f\"np.invert(A) * A = \\n{np.invert(A) * A}\")\n",
    "print(f\"np.linalg.inv(A) = \\n{np.linalg.inv(A)}\")\n",
    "print(f\"np.linalg.inv(A) * A = \\n{np.linalg.inv(A) * A}\")"
   ]
  },
  {
   "cell_type": "code",
   "execution_count": 8,
   "metadata": {},
   "outputs": [
    {
     "name": "stdout",
     "output_type": "stream",
     "text": [
      "a = [[1 2]\n",
      " [3 4]]\n",
      "b = [[5 6]\n",
      " [7 8]]\n",
      "v_stack = [[1 2]\n",
      " [3 4]\n",
      " [5 6]\n",
      " [7 8]]\n",
      "h_stack = [[1 2 5 6]\n",
      " [3 4 7 8]]\n",
      "v_stack[0:1, -1] = [2]\n"
     ]
    }
   ],
   "source": [
    "a = np.array([[1, 2], [3, 4]])\n",
    "b = np.array([[5, 6], [7, 8]])\n",
    "\n",
    "print(f\"a = {a}\")\n",
    "print(f\"b = {b}\")\n",
    "\n",
    "v_stack = np.vstack((a, b))  # Vertical\n",
    "h_stack = np.hstack((a, b))  # Horizontal\n",
    "\n",
    "print(f\"v_stack = {v_stack}\")\n",
    "print(f\"h_stack = {h_stack}\")\n",
    "\n",
    "print(f\"v_stack[0:1, -1] = {v_stack[0:1, -1]}\")"
   ]
  },
  {
   "cell_type": "code",
   "execution_count": 9,
   "metadata": {},
   "outputs": [
    {
     "name": "stdout",
     "output_type": "stream",
     "text": [
      "a = \n",
      "[[1 2]\n",
      " [3 4]]\n",
      "a > 2 = \n",
      "[[False False]\n",
      " [ True  True]]\n",
      "b = \n",
      "[3 4]\n"
     ]
    }
   ],
   "source": [
    "a = np.array([[1, 2], [3, 4]])\n",
    "print(f\"a = \\n{a}\")\n",
    "\n",
    "b = a > 2\n",
    "print(f\"a > 2 = \\n{b}\")\n",
    "\n",
    "b = a[b]\n",
    "print(f\"b = \\n{b}\")"
   ]
  },
  {
   "cell_type": "code",
   "execution_count": 10,
   "metadata": {},
   "outputs": [
    {
     "name": "stdout",
     "output_type": "stream",
     "text": [
      "a = \n",
      "[[ 1  2  3  4]\n",
      " [ 5  6  7  8]\n",
      " [ 9 10 11 12]\n",
      " [13 14 15 16]]\n",
      "\n",
      "Selected elements: [ 1  6 11 16]\n"
     ]
    }
   ],
   "source": [
    "a = np.array([[1, 2, 3, 4], [5, 6, 7, 8], [9, 10, 11, 12], [13, 14, 15, 16]])\n",
    "print(f\"a = \\n{a}\")\n",
    "rows = list(range(a.shape[0]))\n",
    "cols = list(range(a.shape[0]))\n",
    "print(\"\\nSelected elements:\", a[rows, cols])"
   ]
  }
 ],
 "metadata": {
  "kernelspec": {
   "display_name": ".venv",
   "language": "python",
   "name": "python3"
  },
  "language_info": {
   "codemirror_mode": {
    "name": "ipython",
    "version": 3
   },
   "file_extension": ".py",
   "mimetype": "text/x-python",
   "name": "python",
   "nbconvert_exporter": "python",
   "pygments_lexer": "ipython3",
   "version": "3.13.1"
  }
 },
 "nbformat": 4,
 "nbformat_minor": 2
}
