{
 "cells": [
  {
   "cell_type": "markdown",
   "metadata": {},
   "source": [
    "# Lesson 6 - NumPy\n",
    "\n",
    "In this lesson we will get to know the **NumPy** (*Numerical Python*) library and understand why it's essential for numerical computing in python."
   ]
  },
  {
   "cell_type": "markdown",
   "metadata": {},
   "source": [
    "\n",
    "## 🚀 Key Features\n",
    "- **N-Dimensional Arrays**:  \n",
    "  Efficient `ndarray` object for storing homogeneous data (integers, floats, etc.)  \n",
    "  ```python\n",
    "  import numpy as np\n",
    "  arr = np.array([[1, 2, 3], [4, 5, 6]])  # 2D array\n",
    "  ```\n",
    "- **Vectorization**:  \n",
    "  Perform operations on entire arrays *without loops*\n",
    "  ```python\n",
    "  a = np.array([1, 2, 3])\n",
    "  b = np.array([4, 5, 6])\n",
    "  print(a * b)  # [4, 10, 18]\n",
    "  ```\n",
    "- **Speed**:  \n",
    "  Built-in C/C++/Fortran optimizations make it **100x faster** than Python lists for large datasets\n",
    "\n",
    "- **Scientific Toolkit**:\n",
    "  - Linear algebra (```np.linalg```)\n",
    "  - Fourier transforms (```np.fft```)\n",
    "  - Random sampling (```np.random```)\n",
    "  - Statistics and matrix operations"
   ]
  },
  {
   "cell_type": "markdown",
   "metadata": {},
   "source": [
    "## 🌐 Ecosystem Integration\n",
    "Serves as the foundation for:\n",
    "- [Pandas](https://pandas.pydata.org/) (DataFrames)\n",
    "- [SciPy](https://scipy.org/) (Scientific computing)\n",
    "- [Matplotlib](https://matplotlib.org/)/[Seaborn](https://seaborn.pydata.org/) (Visualization)\n",
    "- [scikit-learn](https://scikit-learn.org/stable/) (Machine Learning)"
   ]
  },
  {
   "cell_type": "markdown",
   "metadata": {},
   "source": [
    "## 💡 Why Learn NumPy?\n",
    "\n",
    "- **Data Science**: Cleaning/transforming datasets\n",
    "- **Machine Learning**: Matrix operations for neural nets\n",
    "- **Physics Simulations**: Modeling wave propagation\n",
    "- **Financial Analysis**: Portfolio optimization\n",
    "- **Image Processing**: Manipulating pixel arrays"
   ]
  },
  {
   "cell_type": "markdown",
   "metadata": {},
   "source": [
    "## 0 Installation and Import\n",
    "\n",
    "In order to use NUmPy, you have to first install the NumPy library using pip (inside the python environment) and than import it inside your code.\n",
    "\n",
    "```bash\n",
    "> pip install numpy\n",
    "```\n",
    "\n",
    "```python\n",
    "import numpy as np\n",
    "```"
   ]
  },
  {
   "cell_type": "markdown",
   "metadata": {},
   "source": [
    "## 1 Beginner Level"
   ]
  },
  {
   "cell_type": "markdown",
   "metadata": {},
   "source": [
    "### 1.1 Creating Arrays\n",
    "\n",
    "Here are some examples for creating NumPy-Arrays."
   ]
  },
  {
   "cell_type": "code",
   "execution_count": 1,
   "metadata": {},
   "outputs": [
    {
     "name": "stdout",
     "output_type": "stream",
     "text": [
      "1D Array: [1 2 3 4 5]\n",
      "\n",
      "2D Array:\n",
      " [[1 2 3]\n",
      " [4 5 6]]\n",
      "\n",
      "Zeros:\n",
      " [[0. 0. 0.]\n",
      " [0. 0. 0.]]\n",
      "\n",
      "Ones:\n",
      " [[1. 1.]\n",
      " [1. 1.]\n",
      " [1. 1.]]\n",
      "\n",
      "Identity Matrix:\n",
      " [[1. 0. 0.]\n",
      " [0. 1. 0.]\n",
      " [0. 0. 1.]]\n",
      "\n",
      "Range Array: [0 2 4 6 8]\n",
      "\n",
      "Linspace Array: [0.   0.25 0.5  0.75 1.  ]\n"
     ]
    }
   ],
   "source": [
    "import numpy as np\n",
    "\n",
    "\n",
    "# 1D Array\n",
    "arr1d = np.array([1, 2, 3, 4, 5]) \n",
    "print(\"1D Array:\", arr1d)\n",
    "\n",
    "# 2D Array (Matrix)\n",
    "arr2d = np.array([[1, 2, 3], [4, 5, 6]])\n",
    "print(\"\\n2D Array:\\n\", arr2d)\n",
    "\n",
    "# Special Arrays\n",
    "zeros = np.zeros((2, 3)) # 2x3 matrix of zeros\n",
    "ones = np.ones((3, 2)) # 3x2 matrix of ones\n",
    "eye = np.eye(3)  # Identity matrix\n",
    "range_arr = np.arange(0, 10, 2)  # Like range() but returns array\n",
    "linspace_arr = np.linspace(0, 1, 5)  # 5 evenly spaced numbers\n",
    "\n",
    "print(\"\\nZeros:\\n\", zeros)\n",
    "print(\"\\nOnes:\\n\", ones)\n",
    "print(\"\\nIdentity Matrix:\\n\", eye)\n",
    "print(\"\\nRange Array:\", range_arr)\n",
    "print(\"\\nLinspace Array:\", linspace_arr)"
   ]
  },
  {
   "cell_type": "markdown",
   "metadata": {},
   "source": [
    "### 1.2 Array Attributes\n",
    "\n",
    "NumPy arrays have attributes which can be accessed. Some of them are shown in the next code block."
   ]
  },
  {
   "cell_type": "code",
   "execution_count": 2,
   "metadata": {},
   "outputs": [
    {
     "name": "stdout",
     "output_type": "stream",
     "text": [
      "\n",
      "Shape: (2, 3)\n",
      "Dimensions: 2\n",
      "Size: 6\n",
      "Data Type: int64\n"
     ]
    }
   ],
   "source": [
    "print(\"\\nShape:\", arr2d.shape)\n",
    "print(\"Dimensions:\", arr2d.ndim)\n",
    "print(\"Size:\", arr2d.size)\n",
    "print(\"Data Type:\", arr2d.dtype)"
   ]
  },
  {
   "cell_type": "markdown",
   "metadata": {},
   "source": [
    "### 1.3 Basic Operations\n",
    "\n",
    "All the basic vector and matrix operations are supported for NumPy arrays."
   ]
  },
  {
   "cell_type": "code",
   "execution_count": 3,
   "metadata": {},
   "outputs": [
    {
     "name": "stdout",
     "output_type": "stream",
     "text": [
      "x = [1 2 3]\n",
      "y = [4 5 6]\n",
      "\n",
      "Some Vector Operations:\n",
      "np.dot(x, y) = 32\n",
      "x @ y = 32\n",
      "x * y = [ 4 10 18]\n",
      "5 * y = [20 25 30]\n",
      "np.cross(x, y) = [-3  6 -3]\n"
     ]
    }
   ],
   "source": [
    "x = np.array([1, 2, 3])\n",
    "y = np.array([4, 5, 6])\n",
    "\n",
    "print(f\"x = {x}\")\n",
    "print(f\"y = {y}\")\n",
    "\n",
    "print(\"\\nSome Vector Operations:\")\n",
    "\n",
    "print(f\"np.dot(x, y) = {np.dot(x, y)}\") # Dot product\n",
    "print(f\"x @ y = {x @ y}\") # Dot product\n",
    "print(f\"x * y = {x * y}\") # Element-wise multiplication\n",
    "print(f\"5 * y = {5 * y}\") # Scalar multiplication\n",
    "print(f\"np.cross(x, y) = {np.cross(x, y)}\") # Cross product"
   ]
  },
  {
   "cell_type": "markdown",
   "metadata": {},
   "source": [
    "### 1.4 Aggregation Functions\n",
    "\n",
    "All the common aggregation functions are also supported."
   ]
  },
  {
   "cell_type": "code",
   "execution_count": 4,
   "metadata": {},
   "outputs": [
    {
     "name": "stdout",
     "output_type": "stream",
     "text": [
      "\n",
      "Matrix:\n",
      "[[2 6 9]\n",
      " [8 9 2]\n",
      " [7 9 7]]\n",
      "\n",
      "Sum: 59\n",
      "Column maxima: [8 9 9]\n",
      "Row means: [5.66666667 6.33333333 7.66666667]\n"
     ]
    }
   ],
   "source": [
    "matrix = np.random.randint(0, 10, (3, 3))\n",
    "print(f\"\\nMatrix:\\n{matrix}\\n\")\n",
    "print(\"Sum:\", matrix.sum())\n",
    "print(\"Column maxima:\", matrix.max(axis=0))\n",
    "print(\"Row means:\", matrix.mean(axis=1))"
   ]
  },
  {
   "cell_type": "markdown",
   "metadata": {},
   "source": [
    "## 2 Intermediate Level"
   ]
  },
  {
   "cell_type": "markdown",
   "metadata": {},
   "source": [
    "### 2.1 Reshaping Arrays"
   ]
  },
  {
   "cell_type": "code",
   "execution_count": 5,
   "metadata": {},
   "outputs": [
    {
     "name": "stdout",
     "output_type": "stream",
     "text": [
      "\n",
      "Original:\n",
      " [ 1  2  3  4  5  6  7  8  9 10 11 12]\n",
      "\n",
      "Reshaped:\n",
      " [[ 1  2  3  4]\n",
      " [ 5  6  7  8]\n",
      " [ 9 10 11 12]]\n",
      "\n",
      "Flattened:\n",
      " [ 1  2  3  4  5  6  7  8  9 10 11 12]\n"
     ]
    }
   ],
   "source": [
    "array = np.arange(1, 13) # 1D Array\n",
    "reshaped = array.reshape(3, 4)  # Reshape to 3x4 matrix (total elements must match)\n",
    "flattened = reshaped.flatten() # Flatten back to 1D array\n",
    "\n",
    "print(\"\\nOriginal:\\n\", array)\n",
    "print(\"\\nReshaped:\\n\", reshaped)\n",
    "print(\"\\nFlattened:\\n\", flattened)"
   ]
  },
  {
   "cell_type": "markdown",
   "metadata": {},
   "source": [
    "### 2.2  Adding/Removing Elements"
   ]
  },
  {
   "cell_type": "code",
   "execution_count": 6,
   "metadata": {},
   "outputs": [
    {
     "name": "stdout",
     "output_type": "stream",
     "text": [
      "\n",
      "Original Array:\n",
      " [ 1  2  3  4  5  6  7  8  9 10 11 12]\n",
      "\n",
      "Appended:\n",
      " [ 1  2  3  4  5  6  7  8  9 10 11 12 13 14]\n",
      "\n",
      "Inserted:\n",
      " [ 1  2  0  0  3  4  5  6  7  8  9 10 11 12 13 14]\n",
      "\n",
      "Deleted:\n",
      " [ 0  0  3  4  5  6  7  8  9 10 11 12 13 14]\n"
     ]
    }
   ],
   "source": [
    "appended = np.append(array, [13, 14]) # Append elements\n",
    "inserted = np.insert(appended, 2, [0, 0])  # Insert at index 2\n",
    "deleted = np.delete(inserted, [0, 1])  # Remove first two elements\n",
    "\n",
    "print(\"\\nOriginal Array:\\n\", array)\n",
    "print(\"\\nAppended:\\n\", appended)\n",
    "print(\"\\nInserted:\\n\", inserted)\n",
    "print(\"\\nDeleted:\\n\", deleted)"
   ]
  },
  {
   "cell_type": "markdown",
   "metadata": {},
   "source": [
    "### 2.3 Stacking Arrays"
   ]
  },
  {
   "cell_type": "code",
   "execution_count": 7,
   "metadata": {},
   "outputs": [
    {
     "name": "stdout",
     "output_type": "stream",
     "text": [
      "\n",
      "Matrix A:\n",
      " [[1 2]\n",
      " [3 4]]\n",
      "\n",
      "Matrix B:\n",
      " [[5 6]\n",
      " [7 8]]\n",
      "\n",
      "Vertical Stack:\n",
      " [[1 2]\n",
      " [3 4]\n",
      " [5 6]\n",
      " [7 8]]\n",
      "\n",
      "Horizontal Stack:\n",
      " [[1 2 5 6]\n",
      " [3 4 7 8]]\n"
     ]
    }
   ],
   "source": [
    "A = np.array([[1, 2], [3, 4]])\n",
    "B = np.array([[5, 6], [7, 8]])\n",
    "v_stack = np.vstack((A, B)) # Vertical stack\n",
    "h_stack = np.hstack((A, B)) # Horizontal stack\n",
    "\n",
    "\n",
    "print(\"\\nMatrix A:\\n\", A)\n",
    "print(\"\\nMatrix B:\\n\", B)\n",
    "print(\"\\nVertical Stack:\\n\", v_stack)\n",
    "print(\"\\nHorizontal Stack:\\n\", h_stack)"
   ]
  },
  {
   "cell_type": "markdown",
   "metadata": {},
   "source": [
    "### 2.4 Indexing/Slicing"
   ]
  },
  {
   "cell_type": "code",
   "execution_count": 8,
   "metadata": {},
   "outputs": [
    {
     "name": "stdout",
     "output_type": "stream",
     "text": [
      "\n",
      "Matrix:\n",
      " [[1 2 3]\n",
      " [4 5 6]\n",
      " [7 8 9]]\n",
      "\n",
      "First row: [1 2 3]\n",
      "\n",
      "Last column: [3 6 9]\n",
      "\n",
      "Submatrix:\n",
      " [[4 5]\n",
      " [7 8]]\n",
      "\n",
      "Matrix > 5:\n",
      " [[False False False]\n",
      " [False False  True]\n",
      " [ True  True  True]]\n",
      "\n",
      "Matrix[Matrix > 5]: [6 7 8 9]\n",
      "\n",
      "Selected elements: [2 9]\n",
      "\n",
      "Selected elements: [1 5 9]\n"
     ]
    }
   ],
   "source": [
    "matrix = np.array([[1, 2, 3], [4, 5, 6], [7, 8, 9]])\n",
    "\n",
    "print(\"\\nMatrix:\\n\", matrix)\n",
    "\n",
    "# Indexing and Slicing\n",
    "print(\"\\nFirst row:\", matrix[0])\n",
    "print(\"\\nLast column:\", matrix[:, -1])\n",
    "print(\"\\nSubmatrix:\\n\", matrix[1:, :2])\n",
    "\n",
    "# Boolean Indexing\n",
    "print(\"\\nMatrix > 5:\\n\", matrix > 5)\n",
    "print(\"\\nMatrix[Matrix > 5]:\", matrix[matrix > 5])\n",
    "\n",
    "# Fancy Indexing\n",
    "rows = [0, 2]\n",
    "cols = [1, 2]\n",
    "print(\"\\nSelected elements:\", matrix[rows, cols])\n",
    "\n",
    "# Indexing diagonal elements\n",
    "rows = list(range(matrix.shape[0]))\n",
    "cols = list(range(matrix.shape[0]))\n",
    "print(\"\\nSelected elements:\", matrix[rows, cols])"
   ]
  },
  {
   "cell_type": "markdown",
   "metadata": {},
   "source": [
    "### 2.5 Data Types"
   ]
  },
  {
   "cell_type": "code",
   "execution_count": 9,
   "metadata": {},
   "outputs": [
    {
     "name": "stdout",
     "output_type": "stream",
     "text": [
      "Float Array: [1.5 2.2 3.1]\n",
      "Int Array: [1 2 3]\n"
     ]
    }
   ],
   "source": [
    "float_array = np.array([1.5, 2.2, 3.1], dtype=np.float32) # Array of floats\n",
    "int_array = float_array.astype(np.int16) # Convert to int16\n",
    "\n",
    "print(\"Float Array:\", float_array)\n",
    "print(\"Int Array:\", int_array)"
   ]
  },
  {
   "cell_type": "markdown",
   "metadata": {},
   "source": [
    "## 3 Advanced Level"
   ]
  },
  {
   "cell_type": "markdown",
   "metadata": {},
   "source": [
    "### 3.1 Broadcasting"
   ]
  },
  {
   "cell_type": "code",
   "execution_count": 10,
   "metadata": {},
   "outputs": [
    {
     "name": "stdout",
     "output_type": "stream",
     "text": [
      "\n",
      "Matrix:\n",
      " [[1 2 3]\n",
      " [4 5 6]]\n",
      "\n",
      "Broadcasting result:\n",
      " [[11 22 33]\n",
      " [14 25 36]]\n"
     ]
    }
   ],
   "source": [
    "matrix = np.array([[1, 2, 3], [4, 5, 6]])\n",
    "result = matrix + np.array([10, 20, 30]) # Add to each row\n",
    "\n",
    "print(\"\\nMatrix:\\n\", matrix)\n",
    "print(\"\\nBroadcasting result:\\n\", result)"
   ]
  },
  {
   "cell_type": "markdown",
   "metadata": {},
   "source": [
    "### 3.2 Vectorization"
   ]
  },
  {
   "cell_type": "code",
   "execution_count": 11,
   "metadata": {},
   "outputs": [
    {
     "name": "stdout",
     "output_type": "stream",
     "text": [
      "[ 9 12 15]\n"
     ]
    }
   ],
   "source": [
    "def slow_func(a, b):\n",
    "    return a + b * 2\n",
    "\n",
    "vectorized_func = np.vectorize(slow_func)\n",
    "result = vectorized_func(np.array([1,2,3]), np.array([4,5,6]))\n",
    "\n",
    "print(result)"
   ]
  },
  {
   "cell_type": "markdown",
   "metadata": {},
   "source": [
    "### 3.3 Linear Algebra"
   ]
  },
  {
   "cell_type": "code",
   "execution_count": 12,
   "metadata": {},
   "outputs": [
    {
     "name": "stdout",
     "output_type": "stream",
     "text": [
      "\n",
      "Matrix A:\n",
      " [[1 2]\n",
      " [3 4]]\n",
      "\n",
      "Matrix B:\n",
      " [[5 6]\n",
      " [7 8]]\n",
      "\n",
      "Dot Product:\n",
      " [[19 22]\n",
      " [43 50]]\n",
      "\n",
      "Matrix Multiplication:\n",
      " [[19 22]\n",
      " [43 50]]\n",
      "\n",
      "Eigenvalues of A:\n",
      " [-0.37228132  5.37228132]\n"
     ]
    }
   ],
   "source": [
    "A = np.array([[1, 2], [3, 4]])\n",
    "B = np.array([[5, 6], [7, 8]])\n",
    "dot_product = np.dot(A, B) # Matrix multiplication\n",
    "matrix_mult = A @ B  # Alternative syntax\n",
    "eigenvalues = np.linalg.eig(A)[0] # Eigenvalues of a\n",
    "\n",
    "print(\"\\nMatrix A:\\n\", A)\n",
    "print(\"\\nMatrix B:\\n\", B)\n",
    "print(\"\\nDot Product:\\n\", dot_product)\n",
    "print(\"\\nMatrix Multiplication:\\n\", matrix_mult)\n",
    "print(\"\\nEigenvalues of A:\\n\", eigenvalues)"
   ]
  },
  {
   "cell_type": "markdown",
   "metadata": {},
   "source": [
    "### 3.4 Structured Arrays"
   ]
  },
  {
   "cell_type": "code",
   "execution_count": 13,
   "metadata": {},
   "outputs": [
    {
     "name": "stdout",
     "output_type": "stream",
     "text": [
      "\n",
      "Structured array: [(b'Alice', 25, 1.65) (b'Bob', 30, 1.8 )]\n",
      "\n",
      "Names: [b'Alice' b'Bob']\n",
      "Ages: [25 30]\n",
      "Heights: [1.65 1.8 ]\n"
     ]
    }
   ],
   "source": [
    "dtype = [('name', 'S10'), ('age', 'i4'), ('height', 'f4')]\n",
    "people = np.array([('Alice', 25, 1.65), ('Bob', 30, 1.8)], dtype=dtype)\n",
    "\n",
    "print(\"\\nStructured array:\", people)\n",
    "\n",
    "print(\"\\nNames:\", people['name'])\n",
    "print(\"Ages:\", people['age'])\n",
    "print(\"Heights:\", people['height'])"
   ]
  },
  {
   "cell_type": "markdown",
   "metadata": {},
   "source": [
    "### 3.5 Advanced Operations"
   ]
  },
  {
   "cell_type": "code",
   "execution_count": 14,
   "metadata": {},
   "outputs": [
    {
     "name": "stdout",
     "output_type": "stream",
     "text": [
      "Where function: [-1 -1 -1  4  5 -1]\n",
      "\n",
      "Unique values: [1 2 3 4 5]\n",
      "\n",
      "Loaded array: [1 3 2 4 5 2]\n",
      "\n",
      "A:\n",
      "[[1. 2.]\n",
      " [3. 4.]]\n",
      "\n",
      "A.T = \n",
      "[[1. 3.]\n",
      " [2. 4.]]\n",
      "\n",
      "np.linalg.inv(A) = \n",
      "[[-2.   1. ]\n",
      " [ 1.5 -0.5]]\n",
      "\n",
      "np.linalg.inv(A) @ A = \n",
      "[[1.00000000e+00 0.00000000e+00]\n",
      " [1.11022302e-16 1.00000000e+00]]\n",
      "\n",
      "np.linalg.det(A) = -2.0000000000000004\n"
     ]
    }
   ],
   "source": [
    "# Conditional operations\n",
    "arr = np.array([1, 3, 2, 4, 5, 2])\n",
    "print(\"Where function:\", np.where(arr > 3, arr, -1))\n",
    "\n",
    "# Unique elements\n",
    "print(\"\\nUnique values:\", np.unique(arr))\n",
    "\n",
    "# Save/Load\n",
    "np.save('array.npy', arr)\n",
    "loaded = np.load('array.npy')\n",
    "print(\"\\nLoaded array:\", loaded)\n",
    "\n",
    "\n",
    "A = np.array([[1.0, 2.0], [3.0, 4.0]])\n",
    "print(f\"\\nA:\\n{A}\")\n",
    "\n",
    "# Transpose of a matrix\n",
    "print(f\"\\nA.T = \\n{A.T}\")\n",
    "\n",
    "# Inverse of a matrix\n",
    "print(f\"\\nnp.linalg.inv(A) = \\n{np.linalg.inv(A)}\")\n",
    "print(f\"\\nnp.linalg.inv(A) @ A = \\n{np.linalg.inv(A) @ A}\")\n",
    "\n",
    "# Determinant of a matrix\n",
    "print(f\"\\nnp.linalg.det(A) = {np.linalg.det(A)}\")"
   ]
  }
 ],
 "metadata": {
  "kernelspec": {
   "display_name": ".venv",
   "language": "python",
   "name": "python3"
  },
  "language_info": {
   "codemirror_mode": {
    "name": "ipython",
    "version": 3
   },
   "file_extension": ".py",
   "mimetype": "text/x-python",
   "name": "python",
   "nbconvert_exporter": "python",
   "pygments_lexer": "ipython3",
   "version": "3.13.1"
  }
 },
 "nbformat": 4,
 "nbformat_minor": 2
}
