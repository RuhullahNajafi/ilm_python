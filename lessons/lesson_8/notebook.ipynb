{
 "cells": [
  {
   "cell_type": "markdown",
   "metadata": {},
   "source": [
    "# Lesson 8 - scikit-learn\n",
    "\n",
    "This lesson we will cover scikit-learn, covering topics from basic model training to advanced techniques."
   ]
  },
  {
   "cell_type": "markdown",
   "metadata": {},
   "source": [
    "## 1 Getting Started with scikit-learn\n",
    "\n",
    "This chapter introduces the basics of scikit-learn, a popular Python library for machine learning. We'll cover:\n",
    "- Importing scikit-learn and checking its version.\n",
    "- Building a simple linear regression model.\n",
    "- Performing classification using the Iris dataset.\n",
    "- Loading data from a CSV file and using it in a regression task."
   ]
  },
  {
   "cell_type": "markdown",
   "metadata": {},
   "source": [
    "### 1.1 Importing scikit-learn and Checking the Version\n",
    "\n",
    "Before using scikit-learn, we need to import it and verify its version to ensure you’re working with the expected release."
   ]
  },
  {
   "cell_type": "code",
   "execution_count": 1,
   "metadata": {},
   "outputs": [
    {
     "name": "stdout",
     "output_type": "stream",
     "text": [
      "scikit-learn version: 1.6.1\n"
     ]
    }
   ],
   "source": [
    "import sklearn\n",
    "print(\"scikit-learn version:\", sklearn.__version__)"
   ]
  },
  {
   "cell_type": "markdown",
   "metadata": {},
   "source": [
    "### 1.2 Simple Linear Regression Example\n",
    "\n",
    "In this example, we generate a synthetic dataset for linear regression using NumPy. We then create and train a `LinearRegression` model from scikit-learn. Finally, we plot the data points along with the regression line."
   ]
  },
  {
   "cell_type": "code",
   "execution_count": 2,
   "metadata": {},
   "outputs": [
    {
     "name": "stdout",
     "output_type": "stream",
     "text": [
      "Intercept: 4.215096157546747\n",
      "Coefficient: [2.77011339]\n"
     ]
    },
    {
     "data": {
      "image/png": "[encoded data removed]",
      "text/plain": [
       "<Figure size 640x480 with 1 Axes>"
      ]
     },
     "metadata": {},
     "output_type": "display_data"
    }
   ],
   "source": [
    "import numpy as np\n",
    "from sklearn.linear_model import LinearRegression\n",
    "import matplotlib.pyplot as plt\n",
    "\n",
    "\n",
    "# Generate a simple linear dataset\n",
    "np.random.seed(42)\n",
    "X = 2 * np.random.rand(100, 1)\n",
    "y = 4 + 3 * X[:, 0] + np.random.randn(100)\n",
    "\n",
    "# Ensure X is a 2D array\n",
    "X = X.reshape(-1, 1)\n",
    "\n",
    "# Create and fit the linear regression model\n",
    "lin_reg = LinearRegression()\n",
    "lin_reg.fit(X, y)\n",
    "\n",
    "# Make predictions\n",
    "y_pred = lin_reg.predict(X)\n",
    "\n",
    "# Print model parameters\n",
    "print(\"Intercept:\", lin_reg.intercept_)\n",
    "print(\"Coefficient:\", lin_reg.coef_)\n",
    "\n",
    "# Plot the results\n",
    "plt.scatter(X, y, color='blue', label='Data')\n",
    "plt.plot(X, y_pred, color='red', label='Regression line')\n",
    "plt.xlabel(\"X\")\n",
    "plt.ylabel(\"y\")\n",
    "plt.title(\"Simple Linear Regression\")\n",
    "plt.legend()\n",
    "plt.show()\n"
   ]
  },
  {
   "cell_type": "markdown",
   "metadata": {},
   "source": [
    "### 1.3 Classification Using the Iris Dataset\n",
    "\n",
    "We use scikit-learn's built-in Iris dataset to perform a classification task. The dataset is split into training and testing sets, and a K-Nearest Neighbors (KNN) classifier is trained to predict iris species."
   ]
  },
  {
   "cell_type": "code",
   "execution_count": 6,
   "metadata": {},
   "outputs": [
    {
     "name": "stdout",
     "output_type": "stream",
     "text": [
      "Accuracy on Iris test set: 1.0\n"
     ]
    }
   ],
   "source": [
    "from sklearn.datasets import load_iris\n",
    "from sklearn.model_selection import train_test_split\n",
    "from sklearn.neighbors import KNeighborsClassifier\n",
    "from sklearn.metrics import accuracy_score\n",
    "\n",
    "\n",
    "# Load the Iris dataset\n",
    "iris = load_iris()\n",
    "X_iris = iris.data\n",
    "y_iris = iris.target\n",
    "\n",
    "# Split the data into training and testing sets\n",
    "X_train_iris, X_test_iris, y_train_iris, y_test_iris = train_test_split(X_iris, y_iris, test_size=0.2, random_state=42)\n",
    "\n",
    "# Create and train a KNN classifier\n",
    "knn = KNeighborsClassifier(n_neighbors=3)\n",
    "knn.fit(X_train_iris, y_train_iris)\n",
    "\n",
    "# Predict and evaluate\n",
    "y_pred_iris = knn.predict(X_test_iris)\n",
    "accuracy = accuracy_score(y_test_iris, y_pred_iris)\n",
    "print(\"Accuracy on Iris test set:\", accuracy)\n"
   ]
  },
  {
   "cell_type": "markdown",
   "metadata": {},
   "source": [
    "### 1.4 Loading a Dataset from a CSV File\n",
    "\n",
    "We create an example CSV file representing housing data, then load it into a DataFrame using Pandas. The dataset contains features like `Area` (in square meters), `Bedrooms`, and `Price` (in thousands of dollars). Finally, we use these features to train a linear regression model."
   ]
  },
  {
   "cell_type": "code",
   "execution_count": 8,
   "metadata": {},
   "outputs": [
    {
     "name": "stdout",
     "output_type": "stream",
     "text": [
      "Housing Data:\n",
      "   Area  Bedrooms  Price\n",
      "0    50         1    150\n",
      "1    70         2    200\n",
      "2    80         2    220\n",
      "3   120         3    300\n",
      "4   150         3    350\n",
      "5   200         4    450\n",
      "\n",
      "Housing Model Parameters:\n",
      "Intercept: 51.005434782608575\n",
      "Coefficients: [ 1.64945652 17.25543478]\n",
      "R^2 score: 0.9998620914644997\n"
     ]
    }
   ],
   "source": [
    "import pandas as pd\n",
    "\n",
    "# Load housing data from the CSV file\n",
    "df_housing = pd.read_csv(\"housing.csv\")\n",
    "print(\"Housing Data:\")\n",
    "print(df_housing)\n",
    "\n",
    "# Use 'Area' and 'Bedrooms' to predict 'Price'\n",
    "X_housing = df_housing[['Area', 'Bedrooms']]\n",
    "y_housing = df_housing['Price']\n",
    "\n",
    "# Create and fit a Linear Regression model\n",
    "housing_reg = LinearRegression()\n",
    "housing_reg.fit(X_housing, y_housing)\n",
    "\n",
    "print(\"\\nHousing Model Parameters:\")\n",
    "print(\"Intercept:\", housing_reg.intercept_)\n",
    "print(\"Coefficients:\", housing_reg.coef_)\n",
    "print(\"R^2 score:\", housing_reg.score(X_housing, y_housing))"
   ]
  },
  {
   "cell_type": "markdown",
   "metadata": {},
   "source": [
    "## 2 Data Preprocessing and Model Evaluation\n",
    "\n",
    "This chapter focuses on essential preprocessing techniques and evaluation strategies in scikit-learn. We'll explore:\n",
    "- Splitting data into training and test sets.\n",
    "- Scaling features with StandardScaler.\n",
    "- Evaluating models using cross-validation.\n",
    "- Calculating regression metrics."
   ]
  },
  {
   "cell_type": "markdown",
   "metadata": {},
   "source": [
    "### 2.1 Splitting Data into Training and Test Sets\n",
    "\n",
    "Splitting data helps evaluate model performance on unseen data. We use `train_test_split` to divide the housing dataset into training and testing subsets."
   ]
  },
  {
   "cell_type": "code",
   "execution_count": 9,
   "metadata": {},
   "outputs": [
    {
     "name": "stdout",
     "output_type": "stream",
     "text": [
      "Training set size: (4, 2)\n",
      "Test set size: (2, 2)\n"
     ]
    }
   ],
   "source": [
    "from sklearn.model_selection import train_test_split\n",
    "\n",
    "# Split housing data (80% training, 20% testing)\n",
    "X_train, X_test, y_train, y_test = train_test_split(X_housing, y_housing, test_size=0.2, random_state=42)\n",
    "print(\"Training set size:\", X_train.shape)\n",
    "print(\"Test set size:\", X_test.shape)"
   ]
  },
  {
   "cell_type": "markdown",
   "metadata": {},
   "source": [
    "### 2.2 Data Scaling with StandardScaler\n",
    "\n",
    "Feature scaling standardizes the range of independent variables. We apply `StandardScaler` to our housing features before training our model."
   ]
  },
  {
   "cell_type": "code",
   "execution_count": 10,
   "metadata": {},
   "outputs": [
    {
     "name": "stdout",
     "output_type": "stream",
     "text": [
      "Scaled Training Features:\n",
      "[[ 1.42682536  1.41421356]\n",
      " [-1.31267933 -1.41421356]\n",
      " [ 0.28536507  0.        ]\n",
      " [-0.3995111   0.        ]]\n"
     ]
    }
   ],
   "source": [
    "from sklearn.preprocessing import StandardScaler\n",
    "\n",
    "scaler = StandardScaler()\n",
    "X_train_scaled = scaler.fit_transform(X_train)\n",
    "X_test_scaled = scaler.transform(X_test)\n",
    "\n",
    "print(\"Scaled Training Features:\")\n",
    "print(X_train_scaled)"
   ]
  },
  {
   "cell_type": "markdown",
   "metadata": {},
   "source": [
    "### 2.3 Model Evaluation with Cross-Validation\n",
    "\n",
    "Cross-validation provides a robust estimate of model performance. We use 5-fold cross-validation on our housing dataset with a Linear Regression model."
   ]
  },
  {
   "cell_type": "code",
   "execution_count": 13,
   "metadata": {},
   "outputs": [
    {
     "name": "stdout",
     "output_type": "stream",
     "text": [
      "Cross-validation scores: [0.97756233 0.99652778 0.99972222]\n",
      "Average cross-validation score: 0.9912707756232689\n"
     ]
    }
   ],
   "source": [
    "from sklearn.model_selection import cross_val_score\n",
    "\n",
    "# Perform 5-fold cross-validation on the housing dataset\n",
    "cv_scores = cross_val_score(LinearRegression(), X_housing, y_housing, cv=3)\n",
    "print(\"Cross-validation scores:\", cv_scores)\n",
    "print(\"Average cross-validation score:\", cv_scores.mean())"
   ]
  },
  {
   "cell_type": "markdown",
   "metadata": {},
   "source": [
    "## 2.4 Evaluating Model Performance Using Metrics\n",
    "\n",
    "We assess regression model performance using metrics like Mean Squared Error (MSE) and R-squared (R²). These metrics quantify how well our model predicts the housing prices."
   ]
  },
  {
   "cell_type": "code",
   "execution_count": 14,
   "metadata": {},
   "outputs": [
    {
     "name": "stdout",
     "output_type": "stream",
     "text": [
      "Mean Squared Error: 14.02354570637024\n",
      "R-squared: 0.9775623268698076\n"
     ]
    }
   ],
   "source": [
    "from sklearn.metrics import mean_squared_error, r2_score\n",
    "\n",
    "# Train the regression model on scaled features and predict on the test set\n",
    "housing_reg.fit(X_train_scaled, y_train)\n",
    "y_pred_housing = housing_reg.predict(X_test_scaled)\n",
    "\n",
    "# Calculate evaluation metrics\n",
    "mse = mean_squared_error(y_test, y_pred_housing)\n",
    "r2 = r2_score(y_test, y_pred_housing)\n",
    "\n",
    "print(\"Mean Squared Error:\", mse)\n",
    "print(\"R-squared:\", r2)"
   ]
  },
  {
   "cell_type": "markdown",
   "metadata": {},
   "source": [
    "## 3 Using Pipelines and Grid Search\n",
    "\n",
    "This chapter delves into advanced scikit-learn techniques such as pipelines, grid search for hyperparameter tuning, ensemble methods, dimensionality reduction, advanced regression, and clustering."
   ]
  },
  {
   "cell_type": "markdown",
   "metadata": {},
   "source": [
    "### 3.1 Using Pipelines and Grid Search\n",
    "\n",
    "Pipelines streamline the process of chaining data preprocessing and model training steps. We create a pipeline that standardizes data and trains a linear regression model, then use `GridSearchCV` to optimize hyperparameters."
   ]
  },
  {
   "cell_type": "code",
   "execution_count": 16,
   "metadata": {},
   "outputs": [
    {
     "name": "stdout",
     "output_type": "stream",
     "text": [
      "Best parameters from GridSearchCV:\n",
      "{'regressor__fit_intercept': True}\n",
      "Best cross-validation score: 0.9912707756232688\n"
     ]
    }
   ],
   "source": [
    "from sklearn.pipeline import Pipeline\n",
    "from sklearn.model_selection import GridSearchCV\n",
    "\n",
    "# Create a pipeline for scaling and regression\n",
    "pipeline = Pipeline([\n",
    "    ('scaler', StandardScaler()),\n",
    "    ('regressor', LinearRegression())\n",
    "])\n",
    "\n",
    "# Parameter grid for GridSearchCV (tuning the fit_intercept parameter)\n",
    "param_grid = {\n",
    "    'regressor__fit_intercept': [True, False]\n",
    "}\n",
    "\n",
    "grid_search = GridSearchCV(pipeline, param_grid, cv=3)\n",
    "grid_search.fit(X_housing, y_housing)\n",
    "\n",
    "print(\"Best parameters from GridSearchCV:\")\n",
    "print(grid_search.best_params_)\n",
    "print(\"Best cross-validation score:\", grid_search.best_score_)"
   ]
  }
 ],
 "metadata": {
  "kernelspec": {
   "display_name": ".venv",
   "language": "python",
   "name": "python3"
  },
  "language_info": {
   "codemirror_mode": {
    "name": "ipython",
    "version": 3
   },
   "file_extension": ".py",
   "mimetype": "text/x-python",
   "name": "python",
   "nbconvert_exporter": "python",
   "pygments_lexer": "ipython3",
   "version": "3.13.1"
  }
 },
 "nbformat": 4,
 "nbformat_minor": 2
}
