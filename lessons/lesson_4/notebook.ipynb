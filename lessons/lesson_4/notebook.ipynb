{
 "cells": [
  {
   "cell_type": "markdown",
   "metadata": {},
   "source": [
    "# Lesson 4 - Functions\n",
    "\n",
    "In this lesson, we will explore functions in Python, which allow you to organize your code into reusable blocks. Functions make your code more modular, readable, and maintainable."
   ]
  },
  {
   "cell_type": "markdown",
   "metadata": {},
   "source": [
    "## 1 Defining anc Calling Functions\n",
    "\n",
    "A function is a block of code that performs a specific task. You define a function using the `def` keyword, followed by the function name and parentheses. You call a function by using its name followed by parentheses.\n",
    "\n",
    "**The basic syntax**:\n",
    "```python\n",
    "def function_name(parameters): \n",
    "    # Code to execute \n",
    "    return value\n",
    "```"
   ]
  },
  {
   "cell_type": "code",
   "execution_count": 1,
   "metadata": {},
   "outputs": [
    {
     "name": "stdout",
     "output_type": "stream",
     "text": [
      "Hello, Alice!\n"
     ]
    }
   ],
   "source": [
    "# First we define a function which returns a personalized \n",
    "# greeting text by using the name we provide as a parameter.\n",
    "def greet(name):\n",
    "    return f\"Hello, {name}!\"\n",
    "\n",
    "# Now we call the function for the name \"Alice\"\n",
    "print(greet(\"Alice\")) "
   ]
  },
  {
   "cell_type": "markdown",
   "metadata": {},
   "source": [
    "## 2 Parameters and Return Values\n",
    "\n",
    "Functions can accept parameters, which are values you pass to the function. A function can also return a value using the `return` statement."
   ]
  },
  {
   "cell_type": "code",
   "execution_count": 2,
   "metadata": {},
   "outputs": [
    {
     "name": "stdout",
     "output_type": "stream",
     "text": [
      "7 + (3 + 5) = 15\n"
     ]
    }
   ],
   "source": [
    "def add(a, b):\n",
    "    return a + b\n",
    "\n",
    "# Calling the function\n",
    "result = add(7, add(3, 5))\n",
    "print(f\"{7} + ({3} + {5}) = {result}\")"
   ]
  },
  {
   "cell_type": "markdown",
   "metadata": {},
   "source": [
    "## 3 Scope of Variables\n",
    "\n",
    "The scope of a variable refers to the region of the program where the variable is accessible. Variables defined inside a function are local to that function and cannot be accessed outside of it. Conversely, variables defined outside any function are global and can be accessed from anywhere in the program."
   ]
  },
  {
   "cell_type": "code",
   "execution_count": 3,
   "metadata": {},
   "outputs": [
    {
     "name": "stdout",
     "output_type": "stream",
     "text": [
      "I'm local\n",
      "I'm global\n"
     ]
    }
   ],
   "source": [
    "def my_function():\n",
    "    local_var = \"I'm local\"\n",
    "    print(local_var)\n",
    "\n",
    "global_var = \"I'm global\"\n",
    "my_function()\n",
    "print(global_var)\n",
    "\n",
    "# Trying to print local_var outside the function will result in an error\n",
    "# print(local_var)  # NameError: name 'local_var' is not defined"
   ]
  },
  {
   "cell_type": "markdown",
   "metadata": {},
   "source": [
    "## 4 Practice Exercise\n",
    "\n",
    "Demonstrate the usage of functions, parameters, return values, and variable scope by solving the following exercise:\n",
    "\n",
    "1. **Define a function**: Write a Python function that takes in a list of grocery items as a parameter and returns a dictionary containing each item as a key and the number of appearances in the list as the corresponding value.\n",
    "For example if the importing list is `[\"apple\", \"banana\", \"apple\", \"cherry\", \"banana\", \"apple\"]` the returned dictionary should be `{'apple': 3, 'banana': 2, 'cherry': 1}`\n",
    "2. **Write a script calling your function**: Write a Python script that asks the user for the 5 items, which should be put into the grocery list. Then call your just defined function with that list as the parameter and print the result. As a bonus, you can make the number of items itself also user-defined by first asking for that.\n",
    "3. **Recursive functions**: Write a recursive Python function that return the `n`th Fibonacci numbers using, where `n` is the parameter."
   ]
  }
 ],
 "metadata": {
  "kernelspec": {
   "display_name": "Python 3",
   "language": "python",
   "name": "python3"
  },
  "language_info": {
   "codemirror_mode": {
    "name": "ipython",
    "version": 3
   },
   "file_extension": ".py",
   "mimetype": "text/x-python",
   "name": "python",
   "nbconvert_exporter": "python",
   "pygments_lexer": "ipython3",
   "version": "3.13.1"
  }
 },
 "nbformat": 4,
 "nbformat_minor": 2
}
