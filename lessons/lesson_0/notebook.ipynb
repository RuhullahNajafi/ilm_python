{
 "cells": [
  {
   "cell_type": "markdown",
   "metadata": {},
   "source": [
    "# Lesson 0 - Introduction and Installation of Python\n",
    "\n",
    "In this lesson, we will introduce you to Python, one of the most popular programming languages today. We'll cover the basics of setting up your development environment and writing your first Python programs."
   ]
  },
  {
   "cell_type": "markdown",
   "metadata": {},
   "source": [
    "## 1 Introduction to Python \n",
    "\n",
    "Python is a high-level, interpreted programming language known for its readability and simplicity. It is widely used for web development, data analysis, artificial intelligence, scientific computing, and many other fields. \n",
    "\n",
    "**Advantages of Python:**\n",
    "- **Easy to Learn**: Simple syntax and readability make it a great language for beginners. \n",
    "- **Versatile**: Can be used for various applications from web development to data science. \n",
    "- **Community Support**: Large and active community provides extensive libraries and frameworks."
   ]
  },
  {
   "cell_type": "markdown",
   "metadata": {},
   "source": [
    "### 1.1 Advantages of Python:\n",
    "\n",
    "- **Easy to Learn**: Simple syntax and readability make it a great language for beginners. \n",
    "- **Versatile**: Can be used for various applications from web development to data science. \n",
    "- **Community Support**: Large and active community provides extensive libraries and frameworks."
   ]
  },
  {
   "cell_type": "markdown",
   "metadata": {},
   "source": [
    "## 2 Installing Python and Setting Up the Development Environment\n",
    "\n",
    "Before you start writing Python code, you need to install Python on your computer. Follow these steps to install Python and set up an Integrated Development Environment (IDE):\n",
    "\n",
    "- **Download Python**: Visit the [official Python website](https://www.python.org/downloads/) and download the latest version of Python for your operating system. \n",
    "- **Install Python**: Run the installer and follow the instructions. Make sure to check the option to \"Add Python to PATH\" during the installation. \n",
    "- **Install Jupyter Notebook**: Jupyter Notebook is a popular tool for writing and running Python code interactively. To install Jupyter Notebook, you need to install the `pip` package manager (which comes with Python) and then use `pip` to install Jupyter. \n",
    "    - Open a command prompt or terminal. \n",
    "    - Run the following command to install Jupyter Notebook:\n",
    "        ```bash \n",
    "        pip install notebook \n",
    "        ```\n",
    "    - After the installation is complete, you can start Jupyter Notebook by running: \n",
    "        ```bash \n",
    "        jupyter notebook \n",
    "        ``` \n",
    "    - This will open a new tab in your web browser where you can create and run Jupyter Notebooks.\n",
    "- **Choose an IDE**: An IDE is a software application that provides comprehensive facilities to programmers for software development. Some popular IDEs for Python include: \n",
    "    - **VS Code**: Lightweight and powerful, available [here](https://code.visualstudio.com/).\n",
    "        - Useful extensions:\n",
    "            - Python\n",
    "            - Python Debugger\n",
    "            - Pylance\n",
    "            - Jupyter (Extension Pack)\n",
    "            - GitHub Repositories\n",
    "            - Remote Repositories\n",
    "        - Jupyter Notebooks can be run inside VS Code (The extension Jupyter is required).\n",
    "    - **PyCharm**: Feature-rich, especially for larger projects, available [here](https://www.jetbrains.com/pycharm/)."
   ]
  }
 ],
 "metadata": {
  "kernelspec": {
   "display_name": "Python 3",
   "language": "python",
   "name": "python3"
  },
  "language_info": {
   "name": "python",
   "version": "3.13.1"
  }
 },
 "nbformat": 4,
 "nbformat_minor": 2
}
