{
 "cells": [
  {
   "cell_type": "markdown",
   "metadata": {},
   "source": [
    "# Lesson 3 - Control Structures\n",
    "\n",
    "In this lesson, we will explore control structures in Python, which allow you to control the flow of your programs. Control structures include conditional statements and loops, which are essential for making decisions and repeating tasks in your code."
   ]
  },
  {
   "cell_type": "markdown",
   "metadata": {},
   "source": [
    "## 0. The Input-Function in Python\n",
    "\n",
    "The `input()` function in Python is used to take user input. By default, it returns the user input as a string value.\n",
    "\n",
    "It is useful to know this function in order to build examples showcasing the functionality of control structures in Python."
   ]
  },
  {
   "cell_type": "code",
   "execution_count": 2,
   "metadata": {},
   "outputs": [
    {
     "name": "stdout",
     "output_type": "stream",
     "text": [
      "Hi Max, I hope you have a good learning experience!\n"
     ]
    }
   ],
   "source": [
    "name = input(\"Hi, what is your name? \\n\")\n",
    "\n",
    "print(f\"Hi {name}, I hope you have a good learning experience!\")"
   ]
  },
  {
   "cell_type": "markdown",
   "metadata": {},
   "source": [
    "## 1. Conditional Statements\n",
    "\n",
    "Conditional statements, also known as control flow statements, allow you to execute certain pieces of code based on specific conditions. The primary conditional statements in Python are `if`, `elif`, and `else`.\n",
    "\n",
    "**The basic syntax**:\n",
    "```python\n",
    "if condition1: \n",
    "    # Code to execute if condition1 is True \n",
    "elif condition2: \n",
    "    # Code to execute if condition2 is True \n",
    "elif condition3: \n",
    "    # Code to execute if condition3 is True \n",
    "else: \n",
    "    # Code to execute if none of the conditions are True\n",
    "```"
   ]
  },
  {
   "cell_type": "code",
   "execution_count": 4,
   "metadata": {},
   "outputs": [
    {
     "name": "stdout",
     "output_type": "stream",
     "text": [
      "Awesome, you're good to continue with this class.\n"
     ]
    }
   ],
   "source": [
    "age_string = input(f\"How old are you, {name}? \\n\")\n",
    "age = int(age_string)\n",
    "\n",
    "if age < 0: \n",
    "    print(f\"I think you made a typing error. An age of {age} is not sensible.\")\n",
    "elif age < 18:\n",
    "    print(f\"Wow, nice that you're trying to learn Python at such a young age!\")\n",
    "    print(\"But you need the approval of your parents in order to continue this class.\")\n",
    "else:\n",
    "    print(f\"Awesome, you're good to continue with this class.\")"
   ]
  },
  {
   "cell_type": "markdown",
   "metadata": {},
   "source": [
    "## 2. Loops\n",
    "\n",
    "Loops are used to execute a block of code repeatedly. Python provides two types of loops: `for` loops and `while` loops."
   ]
  },
  {
   "cell_type": "markdown",
   "metadata": {},
   "source": [
    "### 2.1 `for`-Loop\n",
    "\n",
    "A `for` loop is used to iterate over a sequence (e.g., a list, tuple, dictionary, set, or string) and execute a block of code for each item in the sequence.\n",
    "\n",
    "**The basic syntax:**\n",
    "```python\n",
    "for item in sequence:\n",
    "    # Code to execute for each item\n",
    "```"
   ]
  },
  {
   "cell_type": "code",
   "execution_count": 10,
   "metadata": {},
   "outputs": [
    {
     "name": "stdout",
     "output_type": "stream",
     "text": [
      "Random number #1: 0.12803775607362233\n",
      "Random number #2: 0.7347680518488161\n"
     ]
    }
   ],
   "source": [
    "import random\n",
    "\n",
    "\n",
    "n = int(input(f\"How many random numbers should I generate? \\n\"))\n",
    "\n",
    "for i in range(n):\n",
    "    print(f\"Random number #{i + 1}: {random.random()}\")"
   ]
  }
 ],
 "metadata": {
  "kernelspec": {
   "display_name": "Python 3",
   "language": "python",
   "name": "python3"
  },
  "language_info": {
   "codemirror_mode": {
    "name": "ipython",
    "version": 3
   },
   "file_extension": ".py",
   "mimetype": "text/x-python",
   "name": "python",
   "nbconvert_exporter": "python",
   "pygments_lexer": "ipython3",
   "version": "3.13.1"
  }
 },
 "nbformat": 4,
 "nbformat_minor": 2
}
